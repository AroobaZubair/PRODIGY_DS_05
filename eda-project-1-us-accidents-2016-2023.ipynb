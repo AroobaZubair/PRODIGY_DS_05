{
 "cells": [
  {
   "cell_type": "code",
   "execution_count": 1,
   "id": "0527c5cc",
   "metadata": {
    "_cell_guid": "b1076dfc-b9ad-4769-8c92-a6c4dae69d19",
    "_uuid": "8f2839f25d086af736a60e9eeb907d3b93b6e0e5",
    "execution": {
     "iopub.execute_input": "2024-06-29T07:17:47.820455Z",
     "iopub.status.busy": "2024-06-29T07:17:47.820055Z",
     "iopub.status.idle": "2024-06-29T07:17:48.758053Z",
     "shell.execute_reply": "2024-06-29T07:17:48.756933Z"
    },
    "papermill": {
     "duration": 0.956669,
     "end_time": "2024-06-29T07:17:48.760732",
     "exception": false,
     "start_time": "2024-06-29T07:17:47.804063",
     "status": "completed"
    },
    "tags": []
   },
   "outputs": [
    {
     "name": "stdout",
     "output_type": "stream",
     "text": [
      "/kaggle/input/us-accidents/US_Accidents_March23.csv\n"
     ]
    }
   ],
   "source": [
    "\n",
    "import numpy as np \n",
    "import pandas as pd \n",
    "\n",
    "\n",
    "\n",
    "import os\n",
    "for dirname, _, filenames in os.walk('/kaggle/input'):\n",
    "    for filename in filenames:\n",
    "        print(os.path.join(dirname, filename))\n",
    "\n"
   ]
  },
  {
   "cell_type": "markdown",
   "id": "03f6dd5d",
   "metadata": {
    "papermill": {
     "duration": 0.013823,
     "end_time": "2024-06-29T07:17:48.818430",
     "exception": false,
     "start_time": "2024-06-29T07:17:48.804607",
     "status": "completed"
    },
    "tags": []
   },
   "source": [
    "## Setup Dataset as DataFrame"
   ]
  },
  {
   "cell_type": "code",
   "execution_count": 2,
   "id": "f98b9c05",
   "metadata": {
    "execution": {
     "iopub.execute_input": "2024-06-29T07:17:48.850756Z",
     "iopub.status.busy": "2024-06-29T07:17:48.850265Z",
     "iopub.status.idle": "2024-06-29T07:17:50.286277Z",
     "shell.execute_reply": "2024-06-29T07:17:50.285037Z"
    },
    "papermill": {
     "duration": 1.454964,
     "end_time": "2024-06-29T07:17:50.289203",
     "exception": false,
     "start_time": "2024-06-29T07:17:48.834239",
     "status": "completed"
    },
    "tags": []
   },
   "outputs": [],
   "source": [
    "import pandas as pd\n",
    "import numpy as np\n",
    "import seaborn as sns"
   ]
  },
  {
   "cell_type": "code",
   "execution_count": 3,
   "id": "0c047064",
   "metadata": {
    "execution": {
     "iopub.execute_input": "2024-06-29T07:17:50.320519Z",
     "iopub.status.busy": "2024-06-29T07:17:50.320089Z",
     "iopub.status.idle": "2024-06-29T07:20:08.731738Z",
     "shell.execute_reply": "2024-06-29T07:20:08.730459Z"
    },
    "papermill": {
     "duration": 138.444711,
     "end_time": "2024-06-29T07:20:08.748269",
     "exception": false,
     "start_time": "2024-06-29T07:17:50.303558",
     "status": "completed"
    },
    "tags": []
   },
   "outputs": [
    {
     "data": {
      "text/html": [
       "<div>\n",
       "<style scoped>\n",
       "    .dataframe tbody tr th:only-of-type {\n",
       "        vertical-align: middle;\n",
       "    }\n",
       "\n",
       "    .dataframe tbody tr th {\n",
       "        vertical-align: top;\n",
       "    }\n",
       "\n",
       "    .dataframe thead th {\n",
       "        text-align: right;\n",
       "    }\n",
       "</style>\n",
       "<table border=\"1\" class=\"dataframe\">\n",
       "  <thead>\n",
       "    <tr style=\"text-align: right;\">\n",
       "      <th></th>\n",
       "      <th>ID</th>\n",
       "      <th>Source</th>\n",
       "      <th>Severity</th>\n",
       "      <th>Start_Time</th>\n",
       "      <th>End_Time</th>\n",
       "      <th>Start_Lat</th>\n",
       "      <th>Start_Lng</th>\n",
       "      <th>End_Lat</th>\n",
       "      <th>End_Lng</th>\n",
       "      <th>Distance(mi)</th>\n",
       "      <th>...</th>\n",
       "      <th>Roundabout</th>\n",
       "      <th>Station</th>\n",
       "      <th>Stop</th>\n",
       "      <th>Traffic_Calming</th>\n",
       "      <th>Traffic_Signal</th>\n",
       "      <th>Turning_Loop</th>\n",
       "      <th>Sunrise_Sunset</th>\n",
       "      <th>Civil_Twilight</th>\n",
       "      <th>Nautical_Twilight</th>\n",
       "      <th>Astronomical_Twilight</th>\n",
       "    </tr>\n",
       "  </thead>\n",
       "  <tbody>\n",
       "    <tr>\n",
       "      <th>0</th>\n",
       "      <td>A-1</td>\n",
       "      <td>Source2</td>\n",
       "      <td>3</td>\n",
       "      <td>2016-02-08 05:46:00</td>\n",
       "      <td>2016-02-08 11:00:00</td>\n",
       "      <td>39.865147</td>\n",
       "      <td>-84.058723</td>\n",
       "      <td>NaN</td>\n",
       "      <td>NaN</td>\n",
       "      <td>0.010</td>\n",
       "      <td>...</td>\n",
       "      <td>False</td>\n",
       "      <td>False</td>\n",
       "      <td>False</td>\n",
       "      <td>False</td>\n",
       "      <td>False</td>\n",
       "      <td>False</td>\n",
       "      <td>Night</td>\n",
       "      <td>Night</td>\n",
       "      <td>Night</td>\n",
       "      <td>Night</td>\n",
       "    </tr>\n",
       "    <tr>\n",
       "      <th>1</th>\n",
       "      <td>A-2</td>\n",
       "      <td>Source2</td>\n",
       "      <td>2</td>\n",
       "      <td>2016-02-08 06:07:59</td>\n",
       "      <td>2016-02-08 06:37:59</td>\n",
       "      <td>39.928059</td>\n",
       "      <td>-82.831184</td>\n",
       "      <td>NaN</td>\n",
       "      <td>NaN</td>\n",
       "      <td>0.010</td>\n",
       "      <td>...</td>\n",
       "      <td>False</td>\n",
       "      <td>False</td>\n",
       "      <td>False</td>\n",
       "      <td>False</td>\n",
       "      <td>False</td>\n",
       "      <td>False</td>\n",
       "      <td>Night</td>\n",
       "      <td>Night</td>\n",
       "      <td>Night</td>\n",
       "      <td>Day</td>\n",
       "    </tr>\n",
       "    <tr>\n",
       "      <th>2</th>\n",
       "      <td>A-3</td>\n",
       "      <td>Source2</td>\n",
       "      <td>2</td>\n",
       "      <td>2016-02-08 06:49:27</td>\n",
       "      <td>2016-02-08 07:19:27</td>\n",
       "      <td>39.063148</td>\n",
       "      <td>-84.032608</td>\n",
       "      <td>NaN</td>\n",
       "      <td>NaN</td>\n",
       "      <td>0.010</td>\n",
       "      <td>...</td>\n",
       "      <td>False</td>\n",
       "      <td>False</td>\n",
       "      <td>False</td>\n",
       "      <td>False</td>\n",
       "      <td>True</td>\n",
       "      <td>False</td>\n",
       "      <td>Night</td>\n",
       "      <td>Night</td>\n",
       "      <td>Day</td>\n",
       "      <td>Day</td>\n",
       "    </tr>\n",
       "    <tr>\n",
       "      <th>3</th>\n",
       "      <td>A-4</td>\n",
       "      <td>Source2</td>\n",
       "      <td>3</td>\n",
       "      <td>2016-02-08 07:23:34</td>\n",
       "      <td>2016-02-08 07:53:34</td>\n",
       "      <td>39.747753</td>\n",
       "      <td>-84.205582</td>\n",
       "      <td>NaN</td>\n",
       "      <td>NaN</td>\n",
       "      <td>0.010</td>\n",
       "      <td>...</td>\n",
       "      <td>False</td>\n",
       "      <td>False</td>\n",
       "      <td>False</td>\n",
       "      <td>False</td>\n",
       "      <td>False</td>\n",
       "      <td>False</td>\n",
       "      <td>Night</td>\n",
       "      <td>Day</td>\n",
       "      <td>Day</td>\n",
       "      <td>Day</td>\n",
       "    </tr>\n",
       "    <tr>\n",
       "      <th>4</th>\n",
       "      <td>A-5</td>\n",
       "      <td>Source2</td>\n",
       "      <td>2</td>\n",
       "      <td>2016-02-08 07:39:07</td>\n",
       "      <td>2016-02-08 08:09:07</td>\n",
       "      <td>39.627781</td>\n",
       "      <td>-84.188354</td>\n",
       "      <td>NaN</td>\n",
       "      <td>NaN</td>\n",
       "      <td>0.010</td>\n",
       "      <td>...</td>\n",
       "      <td>False</td>\n",
       "      <td>False</td>\n",
       "      <td>False</td>\n",
       "      <td>False</td>\n",
       "      <td>True</td>\n",
       "      <td>False</td>\n",
       "      <td>Day</td>\n",
       "      <td>Day</td>\n",
       "      <td>Day</td>\n",
       "      <td>Day</td>\n",
       "    </tr>\n",
       "    <tr>\n",
       "      <th>...</th>\n",
       "      <td>...</td>\n",
       "      <td>...</td>\n",
       "      <td>...</td>\n",
       "      <td>...</td>\n",
       "      <td>...</td>\n",
       "      <td>...</td>\n",
       "      <td>...</td>\n",
       "      <td>...</td>\n",
       "      <td>...</td>\n",
       "      <td>...</td>\n",
       "      <td>...</td>\n",
       "      <td>...</td>\n",
       "      <td>...</td>\n",
       "      <td>...</td>\n",
       "      <td>...</td>\n",
       "      <td>...</td>\n",
       "      <td>...</td>\n",
       "      <td>...</td>\n",
       "      <td>...</td>\n",
       "      <td>...</td>\n",
       "      <td>...</td>\n",
       "    </tr>\n",
       "    <tr>\n",
       "      <th>7728389</th>\n",
       "      <td>A-7777757</td>\n",
       "      <td>Source1</td>\n",
       "      <td>2</td>\n",
       "      <td>2019-08-23 18:03:25</td>\n",
       "      <td>2019-08-23 18:32:01</td>\n",
       "      <td>34.002480</td>\n",
       "      <td>-117.379360</td>\n",
       "      <td>33.99888</td>\n",
       "      <td>-117.37094</td>\n",
       "      <td>0.543</td>\n",
       "      <td>...</td>\n",
       "      <td>False</td>\n",
       "      <td>False</td>\n",
       "      <td>False</td>\n",
       "      <td>False</td>\n",
       "      <td>False</td>\n",
       "      <td>False</td>\n",
       "      <td>Day</td>\n",
       "      <td>Day</td>\n",
       "      <td>Day</td>\n",
       "      <td>Day</td>\n",
       "    </tr>\n",
       "    <tr>\n",
       "      <th>7728390</th>\n",
       "      <td>A-7777758</td>\n",
       "      <td>Source1</td>\n",
       "      <td>2</td>\n",
       "      <td>2019-08-23 19:11:30</td>\n",
       "      <td>2019-08-23 19:38:23</td>\n",
       "      <td>32.766960</td>\n",
       "      <td>-117.148060</td>\n",
       "      <td>32.76555</td>\n",
       "      <td>-117.15363</td>\n",
       "      <td>0.338</td>\n",
       "      <td>...</td>\n",
       "      <td>False</td>\n",
       "      <td>False</td>\n",
       "      <td>False</td>\n",
       "      <td>False</td>\n",
       "      <td>False</td>\n",
       "      <td>False</td>\n",
       "      <td>Day</td>\n",
       "      <td>Day</td>\n",
       "      <td>Day</td>\n",
       "      <td>Day</td>\n",
       "    </tr>\n",
       "    <tr>\n",
       "      <th>7728391</th>\n",
       "      <td>A-7777759</td>\n",
       "      <td>Source1</td>\n",
       "      <td>2</td>\n",
       "      <td>2019-08-23 19:00:21</td>\n",
       "      <td>2019-08-23 19:28:49</td>\n",
       "      <td>33.775450</td>\n",
       "      <td>-117.847790</td>\n",
       "      <td>33.77740</td>\n",
       "      <td>-117.85727</td>\n",
       "      <td>0.561</td>\n",
       "      <td>...</td>\n",
       "      <td>False</td>\n",
       "      <td>False</td>\n",
       "      <td>False</td>\n",
       "      <td>False</td>\n",
       "      <td>False</td>\n",
       "      <td>False</td>\n",
       "      <td>Day</td>\n",
       "      <td>Day</td>\n",
       "      <td>Day</td>\n",
       "      <td>Day</td>\n",
       "    </tr>\n",
       "    <tr>\n",
       "      <th>7728392</th>\n",
       "      <td>A-7777760</td>\n",
       "      <td>Source1</td>\n",
       "      <td>2</td>\n",
       "      <td>2019-08-23 19:00:21</td>\n",
       "      <td>2019-08-23 19:29:42</td>\n",
       "      <td>33.992460</td>\n",
       "      <td>-118.403020</td>\n",
       "      <td>33.98311</td>\n",
       "      <td>-118.39565</td>\n",
       "      <td>0.772</td>\n",
       "      <td>...</td>\n",
       "      <td>False</td>\n",
       "      <td>False</td>\n",
       "      <td>False</td>\n",
       "      <td>False</td>\n",
       "      <td>False</td>\n",
       "      <td>False</td>\n",
       "      <td>Day</td>\n",
       "      <td>Day</td>\n",
       "      <td>Day</td>\n",
       "      <td>Day</td>\n",
       "    </tr>\n",
       "    <tr>\n",
       "      <th>7728393</th>\n",
       "      <td>A-7777761</td>\n",
       "      <td>Source1</td>\n",
       "      <td>2</td>\n",
       "      <td>2019-08-23 18:52:06</td>\n",
       "      <td>2019-08-23 19:21:31</td>\n",
       "      <td>34.133930</td>\n",
       "      <td>-117.230920</td>\n",
       "      <td>34.13736</td>\n",
       "      <td>-117.23934</td>\n",
       "      <td>0.537</td>\n",
       "      <td>...</td>\n",
       "      <td>False</td>\n",
       "      <td>False</td>\n",
       "      <td>False</td>\n",
       "      <td>False</td>\n",
       "      <td>False</td>\n",
       "      <td>False</td>\n",
       "      <td>Day</td>\n",
       "      <td>Day</td>\n",
       "      <td>Day</td>\n",
       "      <td>Day</td>\n",
       "    </tr>\n",
       "  </tbody>\n",
       "</table>\n",
       "<p>7728394 rows × 46 columns</p>\n",
       "</div>"
      ],
      "text/plain": [
       "                ID   Source  Severity           Start_Time  \\\n",
       "0              A-1  Source2         3  2016-02-08 05:46:00   \n",
       "1              A-2  Source2         2  2016-02-08 06:07:59   \n",
       "2              A-3  Source2         2  2016-02-08 06:49:27   \n",
       "3              A-4  Source2         3  2016-02-08 07:23:34   \n",
       "4              A-5  Source2         2  2016-02-08 07:39:07   \n",
       "...            ...      ...       ...                  ...   \n",
       "7728389  A-7777757  Source1         2  2019-08-23 18:03:25   \n",
       "7728390  A-7777758  Source1         2  2019-08-23 19:11:30   \n",
       "7728391  A-7777759  Source1         2  2019-08-23 19:00:21   \n",
       "7728392  A-7777760  Source1         2  2019-08-23 19:00:21   \n",
       "7728393  A-7777761  Source1         2  2019-08-23 18:52:06   \n",
       "\n",
       "                    End_Time  Start_Lat   Start_Lng   End_Lat    End_Lng  \\\n",
       "0        2016-02-08 11:00:00  39.865147  -84.058723       NaN        NaN   \n",
       "1        2016-02-08 06:37:59  39.928059  -82.831184       NaN        NaN   \n",
       "2        2016-02-08 07:19:27  39.063148  -84.032608       NaN        NaN   \n",
       "3        2016-02-08 07:53:34  39.747753  -84.205582       NaN        NaN   \n",
       "4        2016-02-08 08:09:07  39.627781  -84.188354       NaN        NaN   \n",
       "...                      ...        ...         ...       ...        ...   \n",
       "7728389  2019-08-23 18:32:01  34.002480 -117.379360  33.99888 -117.37094   \n",
       "7728390  2019-08-23 19:38:23  32.766960 -117.148060  32.76555 -117.15363   \n",
       "7728391  2019-08-23 19:28:49  33.775450 -117.847790  33.77740 -117.85727   \n",
       "7728392  2019-08-23 19:29:42  33.992460 -118.403020  33.98311 -118.39565   \n",
       "7728393  2019-08-23 19:21:31  34.133930 -117.230920  34.13736 -117.23934   \n",
       "\n",
       "         Distance(mi)  ... Roundabout Station   Stop Traffic_Calming  \\\n",
       "0               0.010  ...      False   False  False           False   \n",
       "1               0.010  ...      False   False  False           False   \n",
       "2               0.010  ...      False   False  False           False   \n",
       "3               0.010  ...      False   False  False           False   \n",
       "4               0.010  ...      False   False  False           False   \n",
       "...               ...  ...        ...     ...    ...             ...   \n",
       "7728389         0.543  ...      False   False  False           False   \n",
       "7728390         0.338  ...      False   False  False           False   \n",
       "7728391         0.561  ...      False   False  False           False   \n",
       "7728392         0.772  ...      False   False  False           False   \n",
       "7728393         0.537  ...      False   False  False           False   \n",
       "\n",
       "        Traffic_Signal Turning_Loop Sunrise_Sunset Civil_Twilight  \\\n",
       "0                False        False          Night          Night   \n",
       "1                False        False          Night          Night   \n",
       "2                 True        False          Night          Night   \n",
       "3                False        False          Night            Day   \n",
       "4                 True        False            Day            Day   \n",
       "...                ...          ...            ...            ...   \n",
       "7728389          False        False            Day            Day   \n",
       "7728390          False        False            Day            Day   \n",
       "7728391          False        False            Day            Day   \n",
       "7728392          False        False            Day            Day   \n",
       "7728393          False        False            Day            Day   \n",
       "\n",
       "        Nautical_Twilight Astronomical_Twilight  \n",
       "0                   Night                 Night  \n",
       "1                   Night                   Day  \n",
       "2                     Day                   Day  \n",
       "3                     Day                   Day  \n",
       "4                     Day                   Day  \n",
       "...                   ...                   ...  \n",
       "7728389               Day                   Day  \n",
       "7728390               Day                   Day  \n",
       "7728391               Day                   Day  \n",
       "7728392               Day                   Day  \n",
       "7728393               Day                   Day  \n",
       "\n",
       "[7728394 rows x 46 columns]"
      ]
     },
     "execution_count": 3,
     "metadata": {},
     "output_type": "execute_result"
    }
   ],
   "source": [
    "df = pd.read_csv('/kaggle/input/us-accidents/US_Accidents_March23.csv')\n",
    "df"
   ]
  },
  {
   "cell_type": "markdown",
   "id": "71f580b1",
   "metadata": {
    "papermill": {
     "duration": 0.014468,
     "end_time": "2024-06-29T07:20:08.777402",
     "exception": false,
     "start_time": "2024-06-29T07:20:08.762934",
     "status": "completed"
    },
    "tags": []
   },
   "source": [
    "## Perform Data Preparation and Cleaning\n",
    "\n",
    "- Look at dataframe details.\n",
    "- Identify and correct invalid or NA values"
   ]
  },
  {
   "cell_type": "code",
   "execution_count": 4,
   "id": "b157881d",
   "metadata": {
    "execution": {
     "iopub.execute_input": "2024-06-29T07:20:08.809162Z",
     "iopub.status.busy": "2024-06-29T07:20:08.808730Z",
     "iopub.status.idle": "2024-06-29T07:20:08.833148Z",
     "shell.execute_reply": "2024-06-29T07:20:08.831896Z"
    },
    "papermill": {
     "duration": 0.043237,
     "end_time": "2024-06-29T07:20:08.835585",
     "exception": false,
     "start_time": "2024-06-29T07:20:08.792348",
     "status": "completed"
    },
    "tags": []
   },
   "outputs": [
    {
     "name": "stdout",
     "output_type": "stream",
     "text": [
      "<class 'pandas.core.frame.DataFrame'>\n",
      "RangeIndex: 7728394 entries, 0 to 7728393\n",
      "Data columns (total 46 columns):\n",
      " #   Column                 Dtype  \n",
      "---  ------                 -----  \n",
      " 0   ID                     object \n",
      " 1   Source                 object \n",
      " 2   Severity               int64  \n",
      " 3   Start_Time             object \n",
      " 4   End_Time               object \n",
      " 5   Start_Lat              float64\n",
      " 6   Start_Lng              float64\n",
      " 7   End_Lat                float64\n",
      " 8   End_Lng                float64\n",
      " 9   Distance(mi)           float64\n",
      " 10  Description            object \n",
      " 11  Street                 object \n",
      " 12  City                   object \n",
      " 13  County                 object \n",
      " 14  State                  object \n",
      " 15  Zipcode                object \n",
      " 16  Country                object \n",
      " 17  Timezone               object \n",
      " 18  Airport_Code           object \n",
      " 19  Weather_Timestamp      object \n",
      " 20  Temperature(F)         float64\n",
      " 21  Wind_Chill(F)          float64\n",
      " 22  Humidity(%)            float64\n",
      " 23  Pressure(in)           float64\n",
      " 24  Visibility(mi)         float64\n",
      " 25  Wind_Direction         object \n",
      " 26  Wind_Speed(mph)        float64\n",
      " 27  Precipitation(in)      float64\n",
      " 28  Weather_Condition      object \n",
      " 29  Amenity                bool   \n",
      " 30  Bump                   bool   \n",
      " 31  Crossing               bool   \n",
      " 32  Give_Way               bool   \n",
      " 33  Junction               bool   \n",
      " 34  No_Exit                bool   \n",
      " 35  Railway                bool   \n",
      " 36  Roundabout             bool   \n",
      " 37  Station                bool   \n",
      " 38  Stop                   bool   \n",
      " 39  Traffic_Calming        bool   \n",
      " 40  Traffic_Signal         bool   \n",
      " 41  Turning_Loop           bool   \n",
      " 42  Sunrise_Sunset         object \n",
      " 43  Civil_Twilight         object \n",
      " 44  Nautical_Twilight      object \n",
      " 45  Astronomical_Twilight  object \n",
      "dtypes: bool(13), float64(12), int64(1), object(20)\n",
      "memory usage: 2.0+ GB\n"
     ]
    }
   ],
   "source": [
    "df.info()"
   ]
  },
  {
   "cell_type": "code",
   "execution_count": 5,
   "id": "da6fefd7",
   "metadata": {
    "execution": {
     "iopub.execute_input": "2024-06-29T07:20:08.867863Z",
     "iopub.status.busy": "2024-06-29T07:20:08.867424Z",
     "iopub.status.idle": "2024-06-29T07:20:50.793356Z",
     "shell.execute_reply": "2024-06-29T07:20:50.792127Z"
    },
    "papermill": {
     "duration": 41.961402,
     "end_time": "2024-06-29T07:20:50.812372",
     "exception": false,
     "start_time": "2024-06-29T07:20:08.850970",
     "status": "completed"
    },
    "tags": []
   },
   "outputs": [
    {
     "data": {
      "text/plain": [
       "ID                       7728394\n",
       "Source                         3\n",
       "Severity                       4\n",
       "Start_Time               6131796\n",
       "End_Time                 6705355\n",
       "Start_Lat                2428358\n",
       "Start_Lng                2482533\n",
       "End_Lat                  1568172\n",
       "End_Lng                  1605789\n",
       "Distance(mi)               22382\n",
       "Description              3761578\n",
       "Street                    336306\n",
       "City                       13678\n",
       "County                      1871\n",
       "State                         49\n",
       "Zipcode                   825094\n",
       "Country                        1\n",
       "Timezone                       4\n",
       "Airport_Code                2045\n",
       "Weather_Timestamp         941331\n",
       "Temperature(F)               860\n",
       "Wind_Chill(F)               1001\n",
       "Humidity(%)                  100\n",
       "Pressure(in)                1144\n",
       "Visibility(mi)                92\n",
       "Wind_Direction                24\n",
       "Wind_Speed(mph)              184\n",
       "Precipitation(in)            299\n",
       "Weather_Condition            144\n",
       "Amenity                        2\n",
       "Bump                           2\n",
       "Crossing                       2\n",
       "Give_Way                       2\n",
       "Junction                       2\n",
       "No_Exit                        2\n",
       "Railway                        2\n",
       "Roundabout                     2\n",
       "Station                        2\n",
       "Stop                           2\n",
       "Traffic_Calming                2\n",
       "Traffic_Signal                 2\n",
       "Turning_Loop                   1\n",
       "Sunrise_Sunset                 2\n",
       "Civil_Twilight                 2\n",
       "Nautical_Twilight              2\n",
       "Astronomical_Twilight          2\n",
       "dtype: int64"
      ]
     },
     "execution_count": 5,
     "metadata": {},
     "output_type": "execute_result"
    }
   ],
   "source": [
    "df.nunique()\n",
    "# can use source, severity as category"
   ]
  },
  {
   "cell_type": "code",
   "execution_count": 6,
   "id": "db730af6",
   "metadata": {
    "execution": {
     "iopub.execute_input": "2024-06-29T07:20:50.845046Z",
     "iopub.status.busy": "2024-06-29T07:20:50.844628Z",
     "iopub.status.idle": "2024-06-29T07:20:55.627440Z",
     "shell.execute_reply": "2024-06-29T07:20:55.626446Z"
    },
    "papermill": {
     "duration": 4.802165,
     "end_time": "2024-06-29T07:20:55.629886",
     "exception": false,
     "start_time": "2024-06-29T07:20:50.827721",
     "status": "completed"
    },
    "tags": []
   },
   "outputs": [
    {
     "data": {
      "text/html": [
       "<div>\n",
       "<style scoped>\n",
       "    .dataframe tbody tr th:only-of-type {\n",
       "        vertical-align: middle;\n",
       "    }\n",
       "\n",
       "    .dataframe tbody tr th {\n",
       "        vertical-align: top;\n",
       "    }\n",
       "\n",
       "    .dataframe thead th {\n",
       "        text-align: right;\n",
       "    }\n",
       "</style>\n",
       "<table border=\"1\" class=\"dataframe\">\n",
       "  <thead>\n",
       "    <tr style=\"text-align: right;\">\n",
       "      <th></th>\n",
       "      <th>Severity</th>\n",
       "      <th>Start_Lat</th>\n",
       "      <th>Start_Lng</th>\n",
       "      <th>End_Lat</th>\n",
       "      <th>End_Lng</th>\n",
       "      <th>Distance(mi)</th>\n",
       "      <th>Temperature(F)</th>\n",
       "      <th>Wind_Chill(F)</th>\n",
       "      <th>Humidity(%)</th>\n",
       "      <th>Pressure(in)</th>\n",
       "      <th>Visibility(mi)</th>\n",
       "      <th>Wind_Speed(mph)</th>\n",
       "      <th>Precipitation(in)</th>\n",
       "    </tr>\n",
       "  </thead>\n",
       "  <tbody>\n",
       "    <tr>\n",
       "      <th>count</th>\n",
       "      <td>7.728394e+06</td>\n",
       "      <td>7.728394e+06</td>\n",
       "      <td>7.728394e+06</td>\n",
       "      <td>4.325632e+06</td>\n",
       "      <td>4.325632e+06</td>\n",
       "      <td>7.728394e+06</td>\n",
       "      <td>7.564541e+06</td>\n",
       "      <td>5.729375e+06</td>\n",
       "      <td>7.554250e+06</td>\n",
       "      <td>7.587715e+06</td>\n",
       "      <td>7.551296e+06</td>\n",
       "      <td>7.157161e+06</td>\n",
       "      <td>5.524808e+06</td>\n",
       "    </tr>\n",
       "    <tr>\n",
       "      <th>mean</th>\n",
       "      <td>2.212384e+00</td>\n",
       "      <td>3.620119e+01</td>\n",
       "      <td>-9.470255e+01</td>\n",
       "      <td>3.626183e+01</td>\n",
       "      <td>-9.572557e+01</td>\n",
       "      <td>5.618423e-01</td>\n",
       "      <td>6.166329e+01</td>\n",
       "      <td>5.825105e+01</td>\n",
       "      <td>6.483104e+01</td>\n",
       "      <td>2.953899e+01</td>\n",
       "      <td>9.090376e+00</td>\n",
       "      <td>7.685490e+00</td>\n",
       "      <td>8.407210e-03</td>\n",
       "    </tr>\n",
       "    <tr>\n",
       "      <th>std</th>\n",
       "      <td>4.875313e-01</td>\n",
       "      <td>5.076079e+00</td>\n",
       "      <td>1.739176e+01</td>\n",
       "      <td>5.272905e+00</td>\n",
       "      <td>1.810793e+01</td>\n",
       "      <td>1.776811e+00</td>\n",
       "      <td>1.901365e+01</td>\n",
       "      <td>2.238983e+01</td>\n",
       "      <td>2.282097e+01</td>\n",
       "      <td>1.006190e+00</td>\n",
       "      <td>2.688316e+00</td>\n",
       "      <td>5.424983e+00</td>\n",
       "      <td>1.102246e-01</td>\n",
       "    </tr>\n",
       "    <tr>\n",
       "      <th>min</th>\n",
       "      <td>1.000000e+00</td>\n",
       "      <td>2.455480e+01</td>\n",
       "      <td>-1.246238e+02</td>\n",
       "      <td>2.456601e+01</td>\n",
       "      <td>-1.245457e+02</td>\n",
       "      <td>0.000000e+00</td>\n",
       "      <td>-8.900000e+01</td>\n",
       "      <td>-8.900000e+01</td>\n",
       "      <td>1.000000e+00</td>\n",
       "      <td>0.000000e+00</td>\n",
       "      <td>0.000000e+00</td>\n",
       "      <td>0.000000e+00</td>\n",
       "      <td>0.000000e+00</td>\n",
       "    </tr>\n",
       "    <tr>\n",
       "      <th>25%</th>\n",
       "      <td>2.000000e+00</td>\n",
       "      <td>3.339963e+01</td>\n",
       "      <td>-1.172194e+02</td>\n",
       "      <td>3.346207e+01</td>\n",
       "      <td>-1.177543e+02</td>\n",
       "      <td>0.000000e+00</td>\n",
       "      <td>4.900000e+01</td>\n",
       "      <td>4.300000e+01</td>\n",
       "      <td>4.800000e+01</td>\n",
       "      <td>2.937000e+01</td>\n",
       "      <td>1.000000e+01</td>\n",
       "      <td>4.600000e+00</td>\n",
       "      <td>0.000000e+00</td>\n",
       "    </tr>\n",
       "    <tr>\n",
       "      <th>50%</th>\n",
       "      <td>2.000000e+00</td>\n",
       "      <td>3.582397e+01</td>\n",
       "      <td>-8.776662e+01</td>\n",
       "      <td>3.618349e+01</td>\n",
       "      <td>-8.802789e+01</td>\n",
       "      <td>3.000000e-02</td>\n",
       "      <td>6.400000e+01</td>\n",
       "      <td>6.200000e+01</td>\n",
       "      <td>6.700000e+01</td>\n",
       "      <td>2.986000e+01</td>\n",
       "      <td>1.000000e+01</td>\n",
       "      <td>7.000000e+00</td>\n",
       "      <td>0.000000e+00</td>\n",
       "    </tr>\n",
       "    <tr>\n",
       "      <th>75%</th>\n",
       "      <td>2.000000e+00</td>\n",
       "      <td>4.008496e+01</td>\n",
       "      <td>-8.035368e+01</td>\n",
       "      <td>4.017892e+01</td>\n",
       "      <td>-8.024709e+01</td>\n",
       "      <td>4.640000e-01</td>\n",
       "      <td>7.600000e+01</td>\n",
       "      <td>7.500000e+01</td>\n",
       "      <td>8.400000e+01</td>\n",
       "      <td>3.003000e+01</td>\n",
       "      <td>1.000000e+01</td>\n",
       "      <td>1.040000e+01</td>\n",
       "      <td>0.000000e+00</td>\n",
       "    </tr>\n",
       "    <tr>\n",
       "      <th>max</th>\n",
       "      <td>4.000000e+00</td>\n",
       "      <td>4.900220e+01</td>\n",
       "      <td>-6.711317e+01</td>\n",
       "      <td>4.907500e+01</td>\n",
       "      <td>-6.710924e+01</td>\n",
       "      <td>4.417500e+02</td>\n",
       "      <td>2.070000e+02</td>\n",
       "      <td>2.070000e+02</td>\n",
       "      <td>1.000000e+02</td>\n",
       "      <td>5.863000e+01</td>\n",
       "      <td>1.400000e+02</td>\n",
       "      <td>1.087000e+03</td>\n",
       "      <td>3.647000e+01</td>\n",
       "    </tr>\n",
       "  </tbody>\n",
       "</table>\n",
       "</div>"
      ],
      "text/plain": [
       "           Severity     Start_Lat     Start_Lng       End_Lat       End_Lng  \\\n",
       "count  7.728394e+06  7.728394e+06  7.728394e+06  4.325632e+06  4.325632e+06   \n",
       "mean   2.212384e+00  3.620119e+01 -9.470255e+01  3.626183e+01 -9.572557e+01   \n",
       "std    4.875313e-01  5.076079e+00  1.739176e+01  5.272905e+00  1.810793e+01   \n",
       "min    1.000000e+00  2.455480e+01 -1.246238e+02  2.456601e+01 -1.245457e+02   \n",
       "25%    2.000000e+00  3.339963e+01 -1.172194e+02  3.346207e+01 -1.177543e+02   \n",
       "50%    2.000000e+00  3.582397e+01 -8.776662e+01  3.618349e+01 -8.802789e+01   \n",
       "75%    2.000000e+00  4.008496e+01 -8.035368e+01  4.017892e+01 -8.024709e+01   \n",
       "max    4.000000e+00  4.900220e+01 -6.711317e+01  4.907500e+01 -6.710924e+01   \n",
       "\n",
       "       Distance(mi)  Temperature(F)  Wind_Chill(F)   Humidity(%)  \\\n",
       "count  7.728394e+06    7.564541e+06   5.729375e+06  7.554250e+06   \n",
       "mean   5.618423e-01    6.166329e+01   5.825105e+01  6.483104e+01   \n",
       "std    1.776811e+00    1.901365e+01   2.238983e+01  2.282097e+01   \n",
       "min    0.000000e+00   -8.900000e+01  -8.900000e+01  1.000000e+00   \n",
       "25%    0.000000e+00    4.900000e+01   4.300000e+01  4.800000e+01   \n",
       "50%    3.000000e-02    6.400000e+01   6.200000e+01  6.700000e+01   \n",
       "75%    4.640000e-01    7.600000e+01   7.500000e+01  8.400000e+01   \n",
       "max    4.417500e+02    2.070000e+02   2.070000e+02  1.000000e+02   \n",
       "\n",
       "       Pressure(in)  Visibility(mi)  Wind_Speed(mph)  Precipitation(in)  \n",
       "count  7.587715e+06    7.551296e+06     7.157161e+06       5.524808e+06  \n",
       "mean   2.953899e+01    9.090376e+00     7.685490e+00       8.407210e-03  \n",
       "std    1.006190e+00    2.688316e+00     5.424983e+00       1.102246e-01  \n",
       "min    0.000000e+00    0.000000e+00     0.000000e+00       0.000000e+00  \n",
       "25%    2.937000e+01    1.000000e+01     4.600000e+00       0.000000e+00  \n",
       "50%    2.986000e+01    1.000000e+01     7.000000e+00       0.000000e+00  \n",
       "75%    3.003000e+01    1.000000e+01     1.040000e+01       0.000000e+00  \n",
       "max    5.863000e+01    1.400000e+02     1.087000e+03       3.647000e+01  "
      ]
     },
     "execution_count": 6,
     "metadata": {},
     "output_type": "execute_result"
    }
   ],
   "source": [
    "df.describe()"
   ]
  },
  {
   "cell_type": "code",
   "execution_count": 7,
   "id": "3ce42f90",
   "metadata": {
    "execution": {
     "iopub.execute_input": "2024-06-29T07:20:55.662659Z",
     "iopub.status.busy": "2024-06-29T07:20:55.662272Z",
     "iopub.status.idle": "2024-06-29T07:20:55.966757Z",
     "shell.execute_reply": "2024-06-29T07:20:55.965728Z"
    },
    "papermill": {
     "duration": 0.323652,
     "end_time": "2024-06-29T07:20:55.969269",
     "exception": false,
     "start_time": "2024-06-29T07:20:55.645617",
     "status": "completed"
    },
    "tags": []
   },
   "outputs": [
    {
     "data": {
      "text/plain": [
       "13"
      ]
     },
     "execution_count": 7,
     "metadata": {},
     "output_type": "execute_result"
    }
   ],
   "source": [
    "# Getting count of numeric columns i9n dataset\n",
    "numerics = ['int16', 'int32', 'int64', 'float16', 'float32', 'float64']\n",
    "numeric_df = df.select_dtypes(include = numerics)\n",
    "len(numeric_df.columns)"
   ]
  },
  {
   "cell_type": "code",
   "execution_count": 8,
   "id": "d6f3c0ad",
   "metadata": {
    "execution": {
     "iopub.execute_input": "2024-06-29T07:20:56.002846Z",
     "iopub.status.busy": "2024-06-29T07:20:56.002447Z",
     "iopub.status.idle": "2024-06-29T07:21:13.365548Z",
     "shell.execute_reply": "2024-06-29T07:21:13.364216Z"
    },
    "papermill": {
     "duration": 17.383231,
     "end_time": "2024-06-29T07:21:13.368408",
     "exception": false,
     "start_time": "2024-06-29T07:20:55.985177",
     "status": "completed"
    },
    "tags": []
   },
   "outputs": [
    {
     "data": {
      "text/plain": [
       "<Axes: >"
      ]
     },
     "execution_count": 8,
     "metadata": {},
     "output_type": "execute_result"
    },
    {
     "data": {
      "image/png": "[encoded data removed]",
      "text/plain": [
       "<Figure size 640x480 with 1 Axes>"
      ]
     },
     "metadata": {},
     "output_type": "display_data"
    }
   ],
   "source": [
    "# Percent of missing values per column\n",
    "percent_missing = df.isnull().sum().sort_values(ascending = False) * 100 / len(df)\n",
    "percent_missing[percent_missing!= 0].plot(kind = 'barh')\n",
    "\n",
    "# Usually columns with greater then 50% missing percent can be dropped."
   ]
  },
  {
   "cell_type": "markdown",
   "id": "ef8298c0",
   "metadata": {
    "papermill": {
     "duration": 0.016753,
     "end_time": "2024-06-29T07:21:13.401994",
     "exception": false,
     "start_time": "2024-06-29T07:21:13.385241",
     "status": "completed"
    },
    "tags": []
   },
   "source": [
    "## Perform Exploratory Analysis and Visualization\n",
    "\n",
    "### Columns to analyse \n",
    "- Start_Time \n",
    "- End_Time\n",
    "- State\n",
    "- Severity\n",
    "- Weather_Condition\n",
    "\n",
    "### Relations to Visualize\n",
    "- Accidents per State\n",
    "- Accidents by Severity per State\n",
    "- Accidents by Weather Condition\n",
    "- Average Resolution Time based on Severity of accidents\n",
    "- Year on Year Trend of no of accidents"
   ]
  },
  {
   "cell_type": "markdown",
   "id": "b939f358",
   "metadata": {
    "papermill": {
     "duration": 0.016447,
     "end_time": "2024-06-29T07:21:13.435417",
     "exception": false,
     "start_time": "2024-06-29T07:21:13.418970",
     "status": "completed"
    },
    "tags": []
   },
   "source": [
    "### Analyze State"
   ]
  },
  {
   "cell_type": "code",
   "execution_count": 9,
   "id": "a4725c12",
   "metadata": {
    "execution": {
     "iopub.execute_input": "2024-06-29T07:21:13.470740Z",
     "iopub.status.busy": "2024-06-29T07:21:13.470328Z",
     "iopub.status.idle": "2024-06-29T07:21:15.488157Z",
     "shell.execute_reply": "2024-06-29T07:21:15.486868Z"
    },
    "papermill": {
     "duration": 2.038567,
     "end_time": "2024-06-29T07:21:15.490768",
     "exception": false,
     "start_time": "2024-06-29T07:21:13.452201",
     "status": "completed"
    },
    "tags": []
   },
   "outputs": [
    {
     "data": {
      "text/html": [
       "<div>\n",
       "<style scoped>\n",
       "    .dataframe tbody tr th:only-of-type {\n",
       "        vertical-align: middle;\n",
       "    }\n",
       "\n",
       "    .dataframe tbody tr th {\n",
       "        vertical-align: top;\n",
       "    }\n",
       "\n",
       "    .dataframe thead th {\n",
       "        text-align: right;\n",
       "    }\n",
       "</style>\n",
       "<table border=\"1\" class=\"dataframe\">\n",
       "  <thead>\n",
       "    <tr style=\"text-align: right;\">\n",
       "      <th></th>\n",
       "      <th>State</th>\n",
       "      <th>Count</th>\n",
       "    </tr>\n",
       "  </thead>\n",
       "  <tbody>\n",
       "    <tr>\n",
       "      <th>0</th>\n",
       "      <td>CA</td>\n",
       "      <td>1741433</td>\n",
       "    </tr>\n",
       "    <tr>\n",
       "      <th>1</th>\n",
       "      <td>FL</td>\n",
       "      <td>880192</td>\n",
       "    </tr>\n",
       "    <tr>\n",
       "      <th>2</th>\n",
       "      <td>TX</td>\n",
       "      <td>582837</td>\n",
       "    </tr>\n",
       "    <tr>\n",
       "      <th>3</th>\n",
       "      <td>SC</td>\n",
       "      <td>382557</td>\n",
       "    </tr>\n",
       "    <tr>\n",
       "      <th>4</th>\n",
       "      <td>NY</td>\n",
       "      <td>347960</td>\n",
       "    </tr>\n",
       "  </tbody>\n",
       "</table>\n",
       "</div>"
      ],
      "text/plain": [
       "  State    Count\n",
       "0    CA  1741433\n",
       "1    FL   880192\n",
       "2    TX   582837\n",
       "3    SC   382557\n",
       "4    NY   347960"
      ]
     },
     "execution_count": 9,
     "metadata": {},
     "output_type": "execute_result"
    }
   ],
   "source": [
    "states = df.State.unique()\n",
    "len(states) # output - 49\n",
    "states_by_accidents = df.State.value_counts().reset_index(name='Count')\n",
    "# states_by_accidents.sort_values('Count', ascending = False)\n",
    "states_by_accidents.head()"
   ]
  },
  {
   "cell_type": "code",
   "execution_count": 10,
   "id": "e533b359",
   "metadata": {
    "execution": {
     "iopub.execute_input": "2024-06-29T07:21:15.526640Z",
     "iopub.status.busy": "2024-06-29T07:21:15.526222Z",
     "iopub.status.idle": "2024-06-29T07:21:15.539987Z",
     "shell.execute_reply": "2024-06-29T07:21:15.538803Z"
    },
    "papermill": {
     "duration": 0.034414,
     "end_time": "2024-06-29T07:21:15.542362",
     "exception": false,
     "start_time": "2024-06-29T07:21:15.507948",
     "status": "completed"
    },
    "tags": []
   },
   "outputs": [
    {
     "name": "stdout",
     "output_type": "stream",
     "text": [
      "3\n",
      "36\n"
     ]
    },
    {
     "data": {
      "text/plain": [
       "6.122448979591836"
      ]
     },
     "execution_count": 10,
     "metadata": {},
     "output_type": "execute_result"
    }
   ],
   "source": [
    "high_accident_states = states_by_accidents[states_by_accidents['Count'] >= 500000]\n",
    "print(len(high_accident_states))\n",
    "low_accident_states = states_by_accidents[states_by_accidents['Count'] < states_by_accidents['Count'].quantile(0.75)]\n",
    "print(len(low_accident_states))\n",
    "\n",
    "percent_high_acc_states = len(high_accident_states) * 100 / len(states)\n",
    "percent_high_acc_states"
   ]
  },
  {
   "cell_type": "markdown",
   "id": "0008873f",
   "metadata": {
    "papermill": {
     "duration": 0.017005,
     "end_time": "2024-06-29T07:21:15.576635",
     "exception": false,
     "start_time": "2024-06-29T07:21:15.559630",
     "status": "completed"
    },
    "tags": []
   },
   "source": [
    "#### Visualize - Accidents per State"
   ]
  },
  {
   "cell_type": "code",
   "execution_count": 11,
   "id": "7b599b49",
   "metadata": {
    "execution": {
     "iopub.execute_input": "2024-06-29T07:21:15.612846Z",
     "iopub.status.busy": "2024-06-29T07:21:15.612373Z",
     "iopub.status.idle": "2024-06-29T07:21:15.871961Z",
     "shell.execute_reply": "2024-06-29T07:21:15.870723Z"
    },
    "papermill": {
     "duration": 0.281056,
     "end_time": "2024-06-29T07:21:15.874903",
     "exception": false,
     "start_time": "2024-06-29T07:21:15.593847",
     "status": "completed"
    },
    "tags": []
   },
   "outputs": [
    {
     "data": {
      "text/plain": [
       "<Axes: xlabel='No of Accidents', ylabel='State'>"
      ]
     },
     "execution_count": 11,
     "metadata": {},
     "output_type": "execute_result"
    },
    {
     "data": {
      "image/png": "[encoded data removed]",
      "text/plain": [
       "<Figure size 640x480 with 1 Axes>"
      ]
     },
     "metadata": {},
     "output_type": "display_data"
    }
   ],
   "source": [
    "states_by_accidents.head(5).plot(kind='barh',x = 'State', y = 'Count', xlabel='No of Accidents')"
   ]
  },
  {
   "cell_type": "markdown",
   "id": "ef4b4190",
   "metadata": {
    "papermill": {
     "duration": 0.017526,
     "end_time": "2024-06-29T07:21:15.910149",
     "exception": false,
     "start_time": "2024-06-29T07:21:15.892623",
     "status": "completed"
    },
    "tags": []
   },
   "source": [
    "#### Visualize - Accidents per State (Seaborn)"
   ]
  },
  {
   "cell_type": "code",
   "execution_count": 12,
   "id": "6e374cba",
   "metadata": {
    "execution": {
     "iopub.execute_input": "2024-06-29T07:21:15.948315Z",
     "iopub.status.busy": "2024-06-29T07:21:15.947324Z",
     "iopub.status.idle": "2024-06-29T07:21:16.367899Z",
     "shell.execute_reply": "2024-06-29T07:21:16.366626Z"
    },
    "papermill": {
     "duration": 0.442457,
     "end_time": "2024-06-29T07:21:16.370481",
     "exception": false,
     "start_time": "2024-06-29T07:21:15.928024",
     "status": "completed"
    },
    "tags": []
   },
   "outputs": [
    {
     "data": {
      "text/plain": [
       "<Axes: xlabel='Count', ylabel='State'>"
      ]
     },
     "execution_count": 12,
     "metadata": {},
     "output_type": "execute_result"
    },
    {
     "data": {
      "image/png": "[encoded data removed]",
      "text/plain": [
       "<Figure size 640x480 with 1 Axes>"
      ]
     },
     "metadata": {},
     "output_type": "display_data"
    }
   ],
   "source": [
    "sns.set_style(style = 'darkgrid')\n",
    "sns.barplot(states_by_accidents.head(5), y='State', x='Count')"
   ]
  },
  {
   "cell_type": "markdown",
   "id": "9b742cbe",
   "metadata": {
    "papermill": {
     "duration": 0.018337,
     "end_time": "2024-06-29T07:21:16.407401",
     "exception": false,
     "start_time": "2024-06-29T07:21:16.389064",
     "status": "completed"
    },
    "tags": []
   },
   "source": [
    "### Analyze States and Severity"
   ]
  },
  {
   "cell_type": "code",
   "execution_count": 13,
   "id": "608caf76",
   "metadata": {
    "execution": {
     "iopub.execute_input": "2024-06-29T07:21:16.447694Z",
     "iopub.status.busy": "2024-06-29T07:21:16.446676Z",
     "iopub.status.idle": "2024-06-29T07:21:17.384121Z",
     "shell.execute_reply": "2024-06-29T07:21:17.382980Z"
    },
    "papermill": {
     "duration": 0.960571,
     "end_time": "2024-06-29T07:21:17.386846",
     "exception": false,
     "start_time": "2024-06-29T07:21:16.426275",
     "status": "completed"
    },
    "tags": []
   },
   "outputs": [
    {
     "data": {
      "text/html": [
       "<div>\n",
       "<style scoped>\n",
       "    .dataframe tbody tr th:only-of-type {\n",
       "        vertical-align: middle;\n",
       "    }\n",
       "\n",
       "    .dataframe tbody tr th {\n",
       "        vertical-align: top;\n",
       "    }\n",
       "\n",
       "    .dataframe thead th {\n",
       "        text-align: right;\n",
       "    }\n",
       "</style>\n",
       "<table border=\"1\" class=\"dataframe\">\n",
       "  <thead>\n",
       "    <tr style=\"text-align: right;\">\n",
       "      <th></th>\n",
       "      <th>Severity</th>\n",
       "      <th>State</th>\n",
       "      <th>Count</th>\n",
       "    </tr>\n",
       "  </thead>\n",
       "  <tbody>\n",
       "    <tr>\n",
       "      <th>187</th>\n",
       "      <td>4</td>\n",
       "      <td>VA</td>\n",
       "      <td>18202</td>\n",
       "    </tr>\n",
       "    <tr>\n",
       "      <th>180</th>\n",
       "      <td>4</td>\n",
       "      <td>PA</td>\n",
       "      <td>15867</td>\n",
       "    </tr>\n",
       "    <tr>\n",
       "      <th>147</th>\n",
       "      <td>4</td>\n",
       "      <td>CA</td>\n",
       "      <td>13502</td>\n",
       "    </tr>\n",
       "    <tr>\n",
       "      <th>152</th>\n",
       "      <td>4</td>\n",
       "      <td>FL</td>\n",
       "      <td>13149</td>\n",
       "    </tr>\n",
       "    <tr>\n",
       "      <th>153</th>\n",
       "      <td>4</td>\n",
       "      <td>GA</td>\n",
       "      <td>12776</td>\n",
       "    </tr>\n",
       "    <tr>\n",
       "      <th>...</th>\n",
       "      <td>...</td>\n",
       "      <td>...</td>\n",
       "      <td>...</td>\n",
       "    </tr>\n",
       "    <tr>\n",
       "      <th>19</th>\n",
       "      <td>1</td>\n",
       "      <td>ME</td>\n",
       "      <td>4</td>\n",
       "    </tr>\n",
       "    <tr>\n",
       "      <th>42</th>\n",
       "      <td>1</td>\n",
       "      <td>VT</td>\n",
       "      <td>3</td>\n",
       "    </tr>\n",
       "    <tr>\n",
       "      <th>45</th>\n",
       "      <td>1</td>\n",
       "      <td>WV</td>\n",
       "      <td>2</td>\n",
       "    </tr>\n",
       "    <tr>\n",
       "      <th>11</th>\n",
       "      <td>1</td>\n",
       "      <td>ID</td>\n",
       "      <td>1</td>\n",
       "    </tr>\n",
       "    <tr>\n",
       "      <th>25</th>\n",
       "      <td>1</td>\n",
       "      <td>ND</td>\n",
       "      <td>1</td>\n",
       "    </tr>\n",
       "  </tbody>\n",
       "</table>\n",
       "<p>193 rows × 3 columns</p>\n",
       "</div>"
      ],
      "text/plain": [
       "     Severity State  Count\n",
       "187         4    VA  18202\n",
       "180         4    PA  15867\n",
       "147         4    CA  13502\n",
       "152         4    FL  13149\n",
       "153         4    GA  12776\n",
       "..        ...   ...    ...\n",
       "19          1    ME      4\n",
       "42          1    VT      3\n",
       "45          1    WV      2\n",
       "11          1    ID      1\n",
       "25          1    ND      1\n",
       "\n",
       "[193 rows x 3 columns]"
      ]
     },
     "execution_count": 13,
     "metadata": {},
     "output_type": "execute_result"
    }
   ],
   "source": [
    "groupedby_states_severity = df.groupby(by=['Severity', 'State']).size().reset_index(name='Count')\n",
    "groupedby_states_severity.sort_values(['Severity', 'Count'], ascending = [False, False])"
   ]
  },
  {
   "cell_type": "markdown",
   "id": "340acc8f",
   "metadata": {
    "papermill": {
     "duration": 0.096785,
     "end_time": "2024-06-29T07:21:17.502299",
     "exception": false,
     "start_time": "2024-06-29T07:21:17.405514",
     "status": "completed"
    },
    "tags": []
   },
   "source": [
    "#### Visualize - Accidents by Severity per State"
   ]
  },
  {
   "cell_type": "code",
   "execution_count": 14,
   "id": "14d4c442",
   "metadata": {
    "execution": {
     "iopub.execute_input": "2024-06-29T07:21:17.542500Z",
     "iopub.status.busy": "2024-06-29T07:21:17.542117Z",
     "iopub.status.idle": "2024-06-29T07:21:18.040849Z",
     "shell.execute_reply": "2024-06-29T07:21:18.039582Z"
    },
    "papermill": {
     "duration": 0.522818,
     "end_time": "2024-06-29T07:21:18.043955",
     "exception": false,
     "start_time": "2024-06-29T07:21:17.521137",
     "status": "completed"
    },
    "tags": []
   },
   "outputs": [
    {
     "data": {
      "text/plain": [
       "<Axes: xlabel='Count', ylabel='State'>"
      ]
     },
     "execution_count": 14,
     "metadata": {},
     "output_type": "execute_result"
    },
    {
     "data": {
      "image/png": "[encoded data removed]",
      "text/plain": [
       "<Figure size 640x480 with 1 Axes>"
      ]
     },
     "metadata": {},
     "output_type": "display_data"
    }
   ],
   "source": [
    "'''\n",
    ".pivot(index='State', columns='Severity', values='counts'): This reshapes the DataFrame to have states as the index, severity levels as the columns, and counts as the values.\n",
    ".plot(kind='bar'): This generates a bar plot with the reshaped DataFrame\n",
    "'''\n",
    "pivoted_states_severity = groupedby_states_severity.pivot(index='State', columns='Severity', values='Count')\n",
    "# Showing states with highest number of high severity accidents\n",
    "pivoted_states_severity.sort_values([4,3,2,1], ascending = False).head(3).plot(kind='barh', xlabel='Count')"
   ]
  },
  {
   "cell_type": "markdown",
   "id": "c416c183",
   "metadata": {
    "papermill": {
     "duration": 0.019974,
     "end_time": "2024-06-29T07:21:18.083886",
     "exception": false,
     "start_time": "2024-06-29T07:21:18.063912",
     "status": "completed"
    },
    "tags": []
   },
   "source": [
    "#### Visualize - Accidents by Severity per State (Seaborn)"
   ]
  },
  {
   "cell_type": "code",
   "execution_count": 15,
   "id": "e3ed5fcf",
   "metadata": {
    "execution": {
     "iopub.execute_input": "2024-06-29T07:21:18.127169Z",
     "iopub.status.busy": "2024-06-29T07:21:18.126065Z",
     "iopub.status.idle": "2024-06-29T07:21:18.622047Z",
     "shell.execute_reply": "2024-06-29T07:21:18.620921Z"
    },
    "papermill": {
     "duration": 0.520563,
     "end_time": "2024-06-29T07:21:18.624991",
     "exception": false,
     "start_time": "2024-06-29T07:21:18.104428",
     "status": "completed"
    },
    "tags": []
   },
   "outputs": [
    {
     "data": {
      "text/plain": [
       "<Axes: xlabel='State'>"
      ]
     },
     "execution_count": 15,
     "metadata": {},
     "output_type": "execute_result"
    },
    {
     "data": {
      "image/png": "[encoded data removed]",
      "text/plain": [
       "<Figure size 640x480 with 1 Axes>"
      ]
     },
     "metadata": {},
     "output_type": "display_data"
    }
   ],
   "source": [
    "sns.scatterplot(pivoted_states_severity.head(5))"
   ]
  },
  {
   "cell_type": "markdown",
   "id": "90849273",
   "metadata": {
    "papermill": {
     "duration": 0.020697,
     "end_time": "2024-06-29T07:21:18.666120",
     "exception": false,
     "start_time": "2024-06-29T07:21:18.645423",
     "status": "completed"
    },
    "tags": []
   },
   "source": [
    "### Analyse Weather Conditions"
   ]
  },
  {
   "cell_type": "code",
   "execution_count": 16,
   "id": "e3b90494",
   "metadata": {
    "execution": {
     "iopub.execute_input": "2024-06-29T07:21:18.710033Z",
     "iopub.status.busy": "2024-06-29T07:21:18.709558Z",
     "iopub.status.idle": "2024-06-29T07:21:20.872798Z",
     "shell.execute_reply": "2024-06-29T07:21:20.871471Z"
    },
    "papermill": {
     "duration": 2.189255,
     "end_time": "2024-06-29T07:21:20.875482",
     "exception": false,
     "start_time": "2024-06-29T07:21:18.686227",
     "status": "completed"
    },
    "tags": []
   },
   "outputs": [
    {
     "data": {
      "text/html": [
       "<div>\n",
       "<style scoped>\n",
       "    .dataframe tbody tr th:only-of-type {\n",
       "        vertical-align: middle;\n",
       "    }\n",
       "\n",
       "    .dataframe tbody tr th {\n",
       "        vertical-align: top;\n",
       "    }\n",
       "\n",
       "    .dataframe thead th {\n",
       "        text-align: right;\n",
       "    }\n",
       "</style>\n",
       "<table border=\"1\" class=\"dataframe\">\n",
       "  <thead>\n",
       "    <tr style=\"text-align: right;\">\n",
       "      <th></th>\n",
       "      <th>Weather_Condition</th>\n",
       "      <th>Count</th>\n",
       "    </tr>\n",
       "  </thead>\n",
       "  <tbody>\n",
       "    <tr>\n",
       "      <th>0</th>\n",
       "      <td>Fair</td>\n",
       "      <td>2560802</td>\n",
       "    </tr>\n",
       "    <tr>\n",
       "      <th>1</th>\n",
       "      <td>Mostly Cloudy</td>\n",
       "      <td>1016195</td>\n",
       "    </tr>\n",
       "    <tr>\n",
       "      <th>2</th>\n",
       "      <td>Cloudy</td>\n",
       "      <td>817082</td>\n",
       "    </tr>\n",
       "    <tr>\n",
       "      <th>3</th>\n",
       "      <td>Clear</td>\n",
       "      <td>808743</td>\n",
       "    </tr>\n",
       "    <tr>\n",
       "      <th>4</th>\n",
       "      <td>Partly Cloudy</td>\n",
       "      <td>698972</td>\n",
       "    </tr>\n",
       "  </tbody>\n",
       "</table>\n",
       "</div>"
      ],
      "text/plain": [
       "  Weather_Condition    Count\n",
       "0              Fair  2560802\n",
       "1     Mostly Cloudy  1016195\n",
       "2            Cloudy   817082\n",
       "3             Clear   808743\n",
       "4     Partly Cloudy   698972"
      ]
     },
     "execution_count": 16,
     "metadata": {},
     "output_type": "execute_result"
    }
   ],
   "source": [
    "weather_conditions = df['Weather_Condition'].unique()\n",
    "weather_conditions_accidents = df['Weather_Condition'].value_counts().reset_index(name='Count')\n",
    "weather_conditions_accidents.head(5)"
   ]
  },
  {
   "cell_type": "markdown",
   "id": "00adca8e",
   "metadata": {
    "papermill": {
     "duration": 0.019999,
     "end_time": "2024-06-29T07:21:20.915729",
     "exception": false,
     "start_time": "2024-06-29T07:21:20.895730",
     "status": "completed"
    },
    "tags": []
   },
   "source": [
    "#### Visualize - Accidents by Weather Conditions"
   ]
  },
  {
   "cell_type": "code",
   "execution_count": 17,
   "id": "5fed6859",
   "metadata": {
    "execution": {
     "iopub.execute_input": "2024-06-29T07:21:20.959054Z",
     "iopub.status.busy": "2024-06-29T07:21:20.957731Z",
     "iopub.status.idle": "2024-06-29T07:21:21.445005Z",
     "shell.execute_reply": "2024-06-29T07:21:21.443680Z"
    },
    "papermill": {
     "duration": 0.512791,
     "end_time": "2024-06-29T07:21:21.448466",
     "exception": false,
     "start_time": "2024-06-29T07:21:20.935675",
     "status": "completed"
    },
    "tags": []
   },
   "outputs": [
    {
     "data": {
      "text/plain": [
       "<Axes: xlabel='Count', ylabel='Weather'>"
      ]
     },
     "execution_count": 17,
     "metadata": {},
     "output_type": "execute_result"
    },
    {
     "data": {
      "image/png": "[encoded data removed]",
      "text/plain": [
       "<Figure size 640x480 with 1 Axes>"
      ]
     },
     "metadata": {},
     "output_type": "display_data"
    }
   ],
   "source": [
    "weather_conditions_accidents.head(10).plot(kind ='barh', x='Weather_Condition', y='Count', ylabel='Weather', xlabel='Count')\n",
    "# , x='Weather_Condition', y='Count'"
   ]
  },
  {
   "cell_type": "markdown",
   "id": "af5c2d9f",
   "metadata": {
    "papermill": {
     "duration": 0.020591,
     "end_time": "2024-06-29T07:21:21.490510",
     "exception": false,
     "start_time": "2024-06-29T07:21:21.469919",
     "status": "completed"
    },
    "tags": []
   },
   "source": [
    "#### Visualize - Accidents by Weather Conditions (Seaborn)"
   ]
  },
  {
   "cell_type": "code",
   "execution_count": 18,
   "id": "8df413f3",
   "metadata": {
    "execution": {
     "iopub.execute_input": "2024-06-29T07:21:21.535596Z",
     "iopub.status.busy": "2024-06-29T07:21:21.535160Z",
     "iopub.status.idle": "2024-06-29T07:21:22.007056Z",
     "shell.execute_reply": "2024-06-29T07:21:22.005806Z"
    },
    "papermill": {
     "duration": 0.497102,
     "end_time": "2024-06-29T07:21:22.009712",
     "exception": false,
     "start_time": "2024-06-29T07:21:21.512610",
     "status": "completed"
    },
    "tags": []
   },
   "outputs": [
    {
     "data": {
      "text/plain": [
       "<Axes: xlabel='Count', ylabel='Weather_Condition'>"
      ]
     },
     "execution_count": 18,
     "metadata": {},
     "output_type": "execute_result"
    },
    {
     "data": {
      "image/png": "[encoded data removed]",
      "text/plain": [
       "<Figure size 640x480 with 1 Axes>"
      ]
     },
     "metadata": {},
     "output_type": "display_data"
    }
   ],
   "source": [
    "sns.barplot(weather_conditions_accidents.head(10), x='Count', y='Weather_Condition')"
   ]
  },
  {
   "cell_type": "markdown",
   "id": "257416cd",
   "metadata": {
    "papermill": {
     "duration": 0.021383,
     "end_time": "2024-06-29T07:21:22.053146",
     "exception": false,
     "start_time": "2024-06-29T07:21:22.031763",
     "status": "completed"
    },
    "tags": []
   },
   "source": [
    "### Analyze Start_Time and End_Time"
   ]
  },
  {
   "cell_type": "code",
   "execution_count": 19,
   "id": "f5266157",
   "metadata": {
    "execution": {
     "iopub.execute_input": "2024-06-29T07:21:22.098956Z",
     "iopub.status.busy": "2024-06-29T07:21:22.098518Z",
     "iopub.status.idle": "2024-06-29T07:21:39.647286Z",
     "shell.execute_reply": "2024-06-29T07:21:39.646066Z"
    },
    "papermill": {
     "duration": 17.575146,
     "end_time": "2024-06-29T07:21:39.649950",
     "exception": false,
     "start_time": "2024-06-29T07:21:22.074804",
     "status": "completed"
    },
    "tags": []
   },
   "outputs": [
    {
     "data": {
      "text/html": [
       "<div>\n",
       "<style scoped>\n",
       "    .dataframe tbody tr th:only-of-type {\n",
       "        vertical-align: middle;\n",
       "    }\n",
       "\n",
       "    .dataframe tbody tr th {\n",
       "        vertical-align: top;\n",
       "    }\n",
       "\n",
       "    .dataframe thead th {\n",
       "        text-align: right;\n",
       "    }\n",
       "</style>\n",
       "<table border=\"1\" class=\"dataframe\">\n",
       "  <thead>\n",
       "    <tr style=\"text-align: right;\">\n",
       "      <th></th>\n",
       "      <th>ID</th>\n",
       "      <th>Source</th>\n",
       "      <th>Severity</th>\n",
       "      <th>Start_Time</th>\n",
       "      <th>End_Time</th>\n",
       "      <th>Start_Lat</th>\n",
       "      <th>Start_Lng</th>\n",
       "      <th>End_Lat</th>\n",
       "      <th>End_Lng</th>\n",
       "      <th>Distance(mi)</th>\n",
       "      <th>...</th>\n",
       "      <th>Station</th>\n",
       "      <th>Stop</th>\n",
       "      <th>Traffic_Calming</th>\n",
       "      <th>Traffic_Signal</th>\n",
       "      <th>Turning_Loop</th>\n",
       "      <th>Sunrise_Sunset</th>\n",
       "      <th>Civil_Twilight</th>\n",
       "      <th>Nautical_Twilight</th>\n",
       "      <th>Astronomical_Twilight</th>\n",
       "      <th>Resolution_Time</th>\n",
       "    </tr>\n",
       "  </thead>\n",
       "  <tbody>\n",
       "    <tr>\n",
       "      <th>0</th>\n",
       "      <td>A-1</td>\n",
       "      <td>Source2</td>\n",
       "      <td>3</td>\n",
       "      <td>2016-02-08 05:46:00</td>\n",
       "      <td>2016-02-08 11:00:00</td>\n",
       "      <td>39.865147</td>\n",
       "      <td>-84.058723</td>\n",
       "      <td>NaN</td>\n",
       "      <td>NaN</td>\n",
       "      <td>0.010</td>\n",
       "      <td>...</td>\n",
       "      <td>False</td>\n",
       "      <td>False</td>\n",
       "      <td>False</td>\n",
       "      <td>False</td>\n",
       "      <td>False</td>\n",
       "      <td>Night</td>\n",
       "      <td>Night</td>\n",
       "      <td>Night</td>\n",
       "      <td>Night</td>\n",
       "      <td>5.233333</td>\n",
       "    </tr>\n",
       "    <tr>\n",
       "      <th>1</th>\n",
       "      <td>A-2</td>\n",
       "      <td>Source2</td>\n",
       "      <td>2</td>\n",
       "      <td>2016-02-08 06:07:59</td>\n",
       "      <td>2016-02-08 06:37:59</td>\n",
       "      <td>39.928059</td>\n",
       "      <td>-82.831184</td>\n",
       "      <td>NaN</td>\n",
       "      <td>NaN</td>\n",
       "      <td>0.010</td>\n",
       "      <td>...</td>\n",
       "      <td>False</td>\n",
       "      <td>False</td>\n",
       "      <td>False</td>\n",
       "      <td>False</td>\n",
       "      <td>False</td>\n",
       "      <td>Night</td>\n",
       "      <td>Night</td>\n",
       "      <td>Night</td>\n",
       "      <td>Day</td>\n",
       "      <td>0.500000</td>\n",
       "    </tr>\n",
       "    <tr>\n",
       "      <th>2</th>\n",
       "      <td>A-3</td>\n",
       "      <td>Source2</td>\n",
       "      <td>2</td>\n",
       "      <td>2016-02-08 06:49:27</td>\n",
       "      <td>2016-02-08 07:19:27</td>\n",
       "      <td>39.063148</td>\n",
       "      <td>-84.032608</td>\n",
       "      <td>NaN</td>\n",
       "      <td>NaN</td>\n",
       "      <td>0.010</td>\n",
       "      <td>...</td>\n",
       "      <td>False</td>\n",
       "      <td>False</td>\n",
       "      <td>False</td>\n",
       "      <td>True</td>\n",
       "      <td>False</td>\n",
       "      <td>Night</td>\n",
       "      <td>Night</td>\n",
       "      <td>Day</td>\n",
       "      <td>Day</td>\n",
       "      <td>0.500000</td>\n",
       "    </tr>\n",
       "    <tr>\n",
       "      <th>3</th>\n",
       "      <td>A-4</td>\n",
       "      <td>Source2</td>\n",
       "      <td>3</td>\n",
       "      <td>2016-02-08 07:23:34</td>\n",
       "      <td>2016-02-08 07:53:34</td>\n",
       "      <td>39.747753</td>\n",
       "      <td>-84.205582</td>\n",
       "      <td>NaN</td>\n",
       "      <td>NaN</td>\n",
       "      <td>0.010</td>\n",
       "      <td>...</td>\n",
       "      <td>False</td>\n",
       "      <td>False</td>\n",
       "      <td>False</td>\n",
       "      <td>False</td>\n",
       "      <td>False</td>\n",
       "      <td>Night</td>\n",
       "      <td>Day</td>\n",
       "      <td>Day</td>\n",
       "      <td>Day</td>\n",
       "      <td>0.500000</td>\n",
       "    </tr>\n",
       "    <tr>\n",
       "      <th>4</th>\n",
       "      <td>A-5</td>\n",
       "      <td>Source2</td>\n",
       "      <td>2</td>\n",
       "      <td>2016-02-08 07:39:07</td>\n",
       "      <td>2016-02-08 08:09:07</td>\n",
       "      <td>39.627781</td>\n",
       "      <td>-84.188354</td>\n",
       "      <td>NaN</td>\n",
       "      <td>NaN</td>\n",
       "      <td>0.010</td>\n",
       "      <td>...</td>\n",
       "      <td>False</td>\n",
       "      <td>False</td>\n",
       "      <td>False</td>\n",
       "      <td>True</td>\n",
       "      <td>False</td>\n",
       "      <td>Day</td>\n",
       "      <td>Day</td>\n",
       "      <td>Day</td>\n",
       "      <td>Day</td>\n",
       "      <td>0.500000</td>\n",
       "    </tr>\n",
       "    <tr>\n",
       "      <th>...</th>\n",
       "      <td>...</td>\n",
       "      <td>...</td>\n",
       "      <td>...</td>\n",
       "      <td>...</td>\n",
       "      <td>...</td>\n",
       "      <td>...</td>\n",
       "      <td>...</td>\n",
       "      <td>...</td>\n",
       "      <td>...</td>\n",
       "      <td>...</td>\n",
       "      <td>...</td>\n",
       "      <td>...</td>\n",
       "      <td>...</td>\n",
       "      <td>...</td>\n",
       "      <td>...</td>\n",
       "      <td>...</td>\n",
       "      <td>...</td>\n",
       "      <td>...</td>\n",
       "      <td>...</td>\n",
       "      <td>...</td>\n",
       "      <td>...</td>\n",
       "    </tr>\n",
       "    <tr>\n",
       "      <th>7728389</th>\n",
       "      <td>A-7777757</td>\n",
       "      <td>Source1</td>\n",
       "      <td>2</td>\n",
       "      <td>2019-08-23 18:03:25</td>\n",
       "      <td>2019-08-23 18:32:01</td>\n",
       "      <td>34.002480</td>\n",
       "      <td>-117.379360</td>\n",
       "      <td>33.99888</td>\n",
       "      <td>-117.37094</td>\n",
       "      <td>0.543</td>\n",
       "      <td>...</td>\n",
       "      <td>False</td>\n",
       "      <td>False</td>\n",
       "      <td>False</td>\n",
       "      <td>False</td>\n",
       "      <td>False</td>\n",
       "      <td>Day</td>\n",
       "      <td>Day</td>\n",
       "      <td>Day</td>\n",
       "      <td>Day</td>\n",
       "      <td>0.476667</td>\n",
       "    </tr>\n",
       "    <tr>\n",
       "      <th>7728390</th>\n",
       "      <td>A-7777758</td>\n",
       "      <td>Source1</td>\n",
       "      <td>2</td>\n",
       "      <td>2019-08-23 19:11:30</td>\n",
       "      <td>2019-08-23 19:38:23</td>\n",
       "      <td>32.766960</td>\n",
       "      <td>-117.148060</td>\n",
       "      <td>32.76555</td>\n",
       "      <td>-117.15363</td>\n",
       "      <td>0.338</td>\n",
       "      <td>...</td>\n",
       "      <td>False</td>\n",
       "      <td>False</td>\n",
       "      <td>False</td>\n",
       "      <td>False</td>\n",
       "      <td>False</td>\n",
       "      <td>Day</td>\n",
       "      <td>Day</td>\n",
       "      <td>Day</td>\n",
       "      <td>Day</td>\n",
       "      <td>0.448056</td>\n",
       "    </tr>\n",
       "    <tr>\n",
       "      <th>7728391</th>\n",
       "      <td>A-7777759</td>\n",
       "      <td>Source1</td>\n",
       "      <td>2</td>\n",
       "      <td>2019-08-23 19:00:21</td>\n",
       "      <td>2019-08-23 19:28:49</td>\n",
       "      <td>33.775450</td>\n",
       "      <td>-117.847790</td>\n",
       "      <td>33.77740</td>\n",
       "      <td>-117.85727</td>\n",
       "      <td>0.561</td>\n",
       "      <td>...</td>\n",
       "      <td>False</td>\n",
       "      <td>False</td>\n",
       "      <td>False</td>\n",
       "      <td>False</td>\n",
       "      <td>False</td>\n",
       "      <td>Day</td>\n",
       "      <td>Day</td>\n",
       "      <td>Day</td>\n",
       "      <td>Day</td>\n",
       "      <td>0.474444</td>\n",
       "    </tr>\n",
       "    <tr>\n",
       "      <th>7728392</th>\n",
       "      <td>A-7777760</td>\n",
       "      <td>Source1</td>\n",
       "      <td>2</td>\n",
       "      <td>2019-08-23 19:00:21</td>\n",
       "      <td>2019-08-23 19:29:42</td>\n",
       "      <td>33.992460</td>\n",
       "      <td>-118.403020</td>\n",
       "      <td>33.98311</td>\n",
       "      <td>-118.39565</td>\n",
       "      <td>0.772</td>\n",
       "      <td>...</td>\n",
       "      <td>False</td>\n",
       "      <td>False</td>\n",
       "      <td>False</td>\n",
       "      <td>False</td>\n",
       "      <td>False</td>\n",
       "      <td>Day</td>\n",
       "      <td>Day</td>\n",
       "      <td>Day</td>\n",
       "      <td>Day</td>\n",
       "      <td>0.489167</td>\n",
       "    </tr>\n",
       "    <tr>\n",
       "      <th>7728393</th>\n",
       "      <td>A-7777761</td>\n",
       "      <td>Source1</td>\n",
       "      <td>2</td>\n",
       "      <td>2019-08-23 18:52:06</td>\n",
       "      <td>2019-08-23 19:21:31</td>\n",
       "      <td>34.133930</td>\n",
       "      <td>-117.230920</td>\n",
       "      <td>34.13736</td>\n",
       "      <td>-117.23934</td>\n",
       "      <td>0.537</td>\n",
       "      <td>...</td>\n",
       "      <td>False</td>\n",
       "      <td>False</td>\n",
       "      <td>False</td>\n",
       "      <td>False</td>\n",
       "      <td>False</td>\n",
       "      <td>Day</td>\n",
       "      <td>Day</td>\n",
       "      <td>Day</td>\n",
       "      <td>Day</td>\n",
       "      <td>0.490278</td>\n",
       "    </tr>\n",
       "  </tbody>\n",
       "</table>\n",
       "<p>7728394 rows × 47 columns</p>\n",
       "</div>"
      ],
      "text/plain": [
       "                ID   Source  Severity          Start_Time            End_Time  \\\n",
       "0              A-1  Source2         3 2016-02-08 05:46:00 2016-02-08 11:00:00   \n",
       "1              A-2  Source2         2 2016-02-08 06:07:59 2016-02-08 06:37:59   \n",
       "2              A-3  Source2         2 2016-02-08 06:49:27 2016-02-08 07:19:27   \n",
       "3              A-4  Source2         3 2016-02-08 07:23:34 2016-02-08 07:53:34   \n",
       "4              A-5  Source2         2 2016-02-08 07:39:07 2016-02-08 08:09:07   \n",
       "...            ...      ...       ...                 ...                 ...   \n",
       "7728389  A-7777757  Source1         2 2019-08-23 18:03:25 2019-08-23 18:32:01   \n",
       "7728390  A-7777758  Source1         2 2019-08-23 19:11:30 2019-08-23 19:38:23   \n",
       "7728391  A-7777759  Source1         2 2019-08-23 19:00:21 2019-08-23 19:28:49   \n",
       "7728392  A-7777760  Source1         2 2019-08-23 19:00:21 2019-08-23 19:29:42   \n",
       "7728393  A-7777761  Source1         2 2019-08-23 18:52:06 2019-08-23 19:21:31   \n",
       "\n",
       "         Start_Lat   Start_Lng   End_Lat    End_Lng  Distance(mi)  ...  \\\n",
       "0        39.865147  -84.058723       NaN        NaN         0.010  ...   \n",
       "1        39.928059  -82.831184       NaN        NaN         0.010  ...   \n",
       "2        39.063148  -84.032608       NaN        NaN         0.010  ...   \n",
       "3        39.747753  -84.205582       NaN        NaN         0.010  ...   \n",
       "4        39.627781  -84.188354       NaN        NaN         0.010  ...   \n",
       "...            ...         ...       ...        ...           ...  ...   \n",
       "7728389  34.002480 -117.379360  33.99888 -117.37094         0.543  ...   \n",
       "7728390  32.766960 -117.148060  32.76555 -117.15363         0.338  ...   \n",
       "7728391  33.775450 -117.847790  33.77740 -117.85727         0.561  ...   \n",
       "7728392  33.992460 -118.403020  33.98311 -118.39565         0.772  ...   \n",
       "7728393  34.133930 -117.230920  34.13736 -117.23934         0.537  ...   \n",
       "\n",
       "        Station   Stop Traffic_Calming Traffic_Signal Turning_Loop  \\\n",
       "0         False  False           False          False        False   \n",
       "1         False  False           False          False        False   \n",
       "2         False  False           False           True        False   \n",
       "3         False  False           False          False        False   \n",
       "4         False  False           False           True        False   \n",
       "...         ...    ...             ...            ...          ...   \n",
       "7728389   False  False           False          False        False   \n",
       "7728390   False  False           False          False        False   \n",
       "7728391   False  False           False          False        False   \n",
       "7728392   False  False           False          False        False   \n",
       "7728393   False  False           False          False        False   \n",
       "\n",
       "        Sunrise_Sunset Civil_Twilight Nautical_Twilight Astronomical_Twilight  \\\n",
       "0                Night          Night             Night                 Night   \n",
       "1                Night          Night             Night                   Day   \n",
       "2                Night          Night               Day                   Day   \n",
       "3                Night            Day               Day                   Day   \n",
       "4                  Day            Day               Day                   Day   \n",
       "...                ...            ...               ...                   ...   \n",
       "7728389            Day            Day               Day                   Day   \n",
       "7728390            Day            Day               Day                   Day   \n",
       "7728391            Day            Day               Day                   Day   \n",
       "7728392            Day            Day               Day                   Day   \n",
       "7728393            Day            Day               Day                   Day   \n",
       "\n",
       "        Resolution_Time  \n",
       "0              5.233333  \n",
       "1              0.500000  \n",
       "2              0.500000  \n",
       "3              0.500000  \n",
       "4              0.500000  \n",
       "...                 ...  \n",
       "7728389        0.476667  \n",
       "7728390        0.448056  \n",
       "7728391        0.474444  \n",
       "7728392        0.489167  \n",
       "7728393        0.490278  \n",
       "\n",
       "[7728394 rows x 47 columns]"
      ]
     },
     "execution_count": 19,
     "metadata": {},
     "output_type": "execute_result"
    }
   ],
   "source": [
    "df['Start_Time'] = pd.to_datetime(df['Start_Time'], format='mixed')\n",
    "df['End_Time'] = pd.to_datetime(df['End_Time'], format='mixed')\n",
    "df['Resolution_Time'] = (df['End_Time'] - df['Start_Time']) / pd.Timedelta(hours=1)\n",
    "df\n",
    "# resolution_time = resolution_time / pd.Timedelta(hours=1)\n",
    "# resolution_time.sample(10)"
   ]
  },
  {
   "cell_type": "code",
   "execution_count": 20,
   "id": "c5d9abbc",
   "metadata": {
    "execution": {
     "iopub.execute_input": "2024-06-29T07:21:39.695925Z",
     "iopub.status.busy": "2024-06-29T07:21:39.695468Z",
     "iopub.status.idle": "2024-06-29T07:21:39.856757Z",
     "shell.execute_reply": "2024-06-29T07:21:39.855515Z"
    },
    "papermill": {
     "duration": 0.187425,
     "end_time": "2024-06-29T07:21:39.859405",
     "exception": false,
     "start_time": "2024-06-29T07:21:39.671980",
     "status": "completed"
    },
    "tags": []
   },
   "outputs": [
    {
     "data": {
      "text/plain": [
       "Severity\n",
       "1     0.896383\n",
       "2     8.090616\n",
       "3     1.246835\n",
       "4    28.089133\n",
       "Name: Resolution_Time, dtype: float64"
      ]
     },
     "execution_count": 20,
     "metadata": {},
     "output_type": "execute_result"
    }
   ],
   "source": [
    "resolution_time_severity= df.groupby('Severity')['Resolution_Time'].mean()\n",
    "resolution_time_severity"
   ]
  },
  {
   "cell_type": "markdown",
   "id": "29f3f433",
   "metadata": {
    "papermill": {
     "duration": 0.022167,
     "end_time": "2024-06-29T07:21:39.903846",
     "exception": false,
     "start_time": "2024-06-29T07:21:39.881679",
     "status": "completed"
    },
    "tags": []
   },
   "source": [
    "#### Visualize - Average Resolution Time"
   ]
  },
  {
   "cell_type": "code",
   "execution_count": 21,
   "id": "40ea7c1b",
   "metadata": {
    "execution": {
     "iopub.execute_input": "2024-06-29T07:21:39.950137Z",
     "iopub.status.busy": "2024-06-29T07:21:39.949704Z",
     "iopub.status.idle": "2024-06-29T07:21:40.321846Z",
     "shell.execute_reply": "2024-06-29T07:21:40.320742Z"
    },
    "papermill": {
     "duration": 0.398623,
     "end_time": "2024-06-29T07:21:40.324634",
     "exception": false,
     "start_time": "2024-06-29T07:21:39.926011",
     "status": "completed"
    },
    "tags": []
   },
   "outputs": [
    {
     "data": {
      "text/plain": [
       "<Axes: xlabel='Time(Hours)', ylabel='Severity'>"
      ]
     },
     "execution_count": 21,
     "metadata": {},
     "output_type": "execute_result"
    },
    {
     "data": {
      "image/png": "[encoded data removed]",
      "text/plain": [
       "<Figure size 640x480 with 1 Axes>"
      ]
     },
     "metadata": {},
     "output_type": "display_data"
    }
   ],
   "source": [
    "resolution_time_severity.plot(kind='barh', x='Resolution_Time', y='Severity', xlabel='Time(Hours)')"
   ]
  },
  {
   "cell_type": "markdown",
   "id": "caa876f1",
   "metadata": {
    "papermill": {
     "duration": 0.022446,
     "end_time": "2024-06-29T07:21:40.370089",
     "exception": false,
     "start_time": "2024-06-29T07:21:40.347643",
     "status": "completed"
    },
    "tags": []
   },
   "source": [
    "#### Visualize - Average Resolution Time (Seaborn)"
   ]
  },
  {
   "cell_type": "code",
   "execution_count": 22,
   "id": "d32ce19f",
   "metadata": {
    "execution": {
     "iopub.execute_input": "2024-06-29T07:21:40.417573Z",
     "iopub.status.busy": "2024-06-29T07:21:40.417119Z",
     "iopub.status.idle": "2024-06-29T07:21:40.847828Z",
     "shell.execute_reply": "2024-06-29T07:21:40.846602Z"
    },
    "papermill": {
     "duration": 0.45772,
     "end_time": "2024-06-29T07:21:40.850623",
     "exception": false,
     "start_time": "2024-06-29T07:21:40.392903",
     "status": "completed"
    },
    "tags": []
   },
   "outputs": [
    {
     "name": "stderr",
     "output_type": "stream",
     "text": [
      "/opt/conda/lib/python3.10/site-packages/seaborn/_oldcore.py:1119: FutureWarning: use_inf_as_na option is deprecated and will be removed in a future version. Convert inf values to NaN before operating instead.\n",
      "  with pd.option_context('mode.use_inf_as_na', True):\n",
      "/opt/conda/lib/python3.10/site-packages/seaborn/_oldcore.py:1119: FutureWarning: use_inf_as_na option is deprecated and will be removed in a future version. Convert inf values to NaN before operating instead.\n",
      "  with pd.option_context('mode.use_inf_as_na', True):\n"
     ]
    },
    {
     "data": {
      "text/plain": [
       "<Axes: xlabel='Severity', ylabel='Resolution_Time'>"
      ]
     },
     "execution_count": 22,
     "metadata": {},
     "output_type": "execute_result"
    },
    {
     "data": {
      "image/png": "[encoded data removed]",
      "text/plain": [
       "<Figure size 640x480 with 1 Axes>"
      ]
     },
     "metadata": {},
     "output_type": "display_data"
    }
   ],
   "source": [
    "sns.lineplot(resolution_time_severity)"
   ]
  },
  {
   "cell_type": "markdown",
   "id": "c02e8b93",
   "metadata": {
    "papermill": {
     "duration": 0.022994,
     "end_time": "2024-06-29T07:21:40.897013",
     "exception": false,
     "start_time": "2024-06-29T07:21:40.874019",
     "status": "completed"
    },
    "tags": []
   },
   "source": [
    "### Analyze Start Time to answer - What time of the days have most accidents occured?"
   ]
  },
  {
   "cell_type": "code",
   "execution_count": 23,
   "id": "f00046a6",
   "metadata": {
    "execution": {
     "iopub.execute_input": "2024-06-29T07:21:40.945497Z",
     "iopub.status.busy": "2024-06-29T07:21:40.945092Z",
     "iopub.status.idle": "2024-06-29T07:21:41.269269Z",
     "shell.execute_reply": "2024-06-29T07:21:41.268048Z"
    },
    "papermill": {
     "duration": 0.351986,
     "end_time": "2024-06-29T07:21:41.272247",
     "exception": false,
     "start_time": "2024-06-29T07:21:40.920261",
     "status": "completed"
    },
    "tags": []
   },
   "outputs": [],
   "source": [
    "hour_counts = pd.to_datetime(df['Start_Time']).dt.hour.value_counts().sort_index().reset_index(name='Count')\n",
    "hour_counts.columns = ['Hour', 'Counts']"
   ]
  },
  {
   "cell_type": "markdown",
   "id": "53876b8c",
   "metadata": {
    "papermill": {
     "duration": 0.024081,
     "end_time": "2024-06-29T07:21:41.320392",
     "exception": false,
     "start_time": "2024-06-29T07:21:41.296311",
     "status": "completed"
    },
    "tags": []
   },
   "source": [
    "#### Visualize accidents across the hours of the day"
   ]
  },
  {
   "cell_type": "code",
   "execution_count": 24,
   "id": "e13e25c3",
   "metadata": {
    "execution": {
     "iopub.execute_input": "2024-06-29T07:21:41.370121Z",
     "iopub.status.busy": "2024-06-29T07:21:41.369672Z",
     "iopub.status.idle": "2024-06-29T07:21:41.798196Z",
     "shell.execute_reply": "2024-06-29T07:21:41.796729Z"
    },
    "papermill": {
     "duration": 0.457506,
     "end_time": "2024-06-29T07:21:41.802035",
     "exception": false,
     "start_time": "2024-06-29T07:21:41.344529",
     "status": "completed"
    },
    "tags": []
   },
   "outputs": [
    {
     "data": {
      "text/plain": [
       "<Axes: xlabel='Time Of Day'>"
      ]
     },
     "execution_count": 24,
     "metadata": {},
     "output_type": "execute_result"
    },
    {
     "data": {
      "image/png": "[encoded data removed]",
      "text/plain": [
       "<Figure size 640x480 with 1 Axes>"
      ]
     },
     "metadata": {},
     "output_type": "display_data"
    }
   ],
   "source": [
    "hour_counts.plot(kind='line', x='Hour', y='Counts', marker='o', xlabel='Time Of Day')"
   ]
  },
  {
   "cell_type": "markdown",
   "id": "260fb33b",
   "metadata": {
    "papermill": {
     "duration": 0.024289,
     "end_time": "2024-06-29T07:21:41.851114",
     "exception": false,
     "start_time": "2024-06-29T07:21:41.826825",
     "status": "completed"
    },
    "tags": []
   },
   "source": [
    "#### Visualize accidents across the hours of the day (Seaborn)"
   ]
  },
  {
   "cell_type": "code",
   "execution_count": 25,
   "id": "27300599",
   "metadata": {
    "execution": {
     "iopub.execute_input": "2024-06-29T07:21:41.902049Z",
     "iopub.status.busy": "2024-06-29T07:21:41.901607Z",
     "iopub.status.idle": "2024-06-29T07:21:42.311727Z",
     "shell.execute_reply": "2024-06-29T07:21:42.310424Z"
    },
    "papermill": {
     "duration": 0.439161,
     "end_time": "2024-06-29T07:21:42.314801",
     "exception": false,
     "start_time": "2024-06-29T07:21:41.875640",
     "status": "completed"
    },
    "tags": []
   },
   "outputs": [
    {
     "name": "stderr",
     "output_type": "stream",
     "text": [
      "/opt/conda/lib/python3.10/site-packages/seaborn/_oldcore.py:1119: FutureWarning: use_inf_as_na option is deprecated and will be removed in a future version. Convert inf values to NaN before operating instead.\n",
      "  with pd.option_context('mode.use_inf_as_na', True):\n",
      "/opt/conda/lib/python3.10/site-packages/seaborn/_oldcore.py:1119: FutureWarning: use_inf_as_na option is deprecated and will be removed in a future version. Convert inf values to NaN before operating instead.\n",
      "  with pd.option_context('mode.use_inf_as_na', True):\n"
     ]
    },
    {
     "data": {
      "text/plain": [
       "<Axes: xlabel='Hour', ylabel='Counts'>"
      ]
     },
     "execution_count": 25,
     "metadata": {},
     "output_type": "execute_result"
    },
    {
     "data": {
      "image/png": "[encoded data removed]",
      "text/plain": [
       "<Figure size 640x480 with 1 Axes>"
      ]
     },
     "metadata": {},
     "output_type": "display_data"
    }
   ],
   "source": [
    "sns.lineplot(x='Hour', y='Counts', marker='o', data=hour_counts)"
   ]
  },
  {
   "cell_type": "markdown",
   "id": "8b4e91ad",
   "metadata": {
    "papermill": {
     "duration": 0.024997,
     "end_time": "2024-06-29T07:21:42.365060",
     "exception": false,
     "start_time": "2024-06-29T07:21:42.340063",
     "status": "completed"
    },
    "tags": []
   },
   "source": [
    "### Analyze Start Time to derive Year on Year trend"
   ]
  },
  {
   "cell_type": "code",
   "execution_count": 26,
   "id": "09c2842e",
   "metadata": {
    "execution": {
     "iopub.execute_input": "2024-06-29T07:21:42.419937Z",
     "iopub.status.busy": "2024-06-29T07:21:42.418811Z",
     "iopub.status.idle": "2024-06-29T07:21:46.708314Z",
     "shell.execute_reply": "2024-06-29T07:21:46.706862Z"
    },
    "papermill": {
     "duration": 4.320884,
     "end_time": "2024-06-29T07:21:46.711463",
     "exception": false,
     "start_time": "2024-06-29T07:21:42.390579",
     "status": "completed"
    },
    "tags": []
   },
   "outputs": [
    {
     "data": {
      "text/html": [
       "<div>\n",
       "<style scoped>\n",
       "    .dataframe tbody tr th:only-of-type {\n",
       "        vertical-align: middle;\n",
       "    }\n",
       "\n",
       "    .dataframe tbody tr th {\n",
       "        vertical-align: top;\n",
       "    }\n",
       "\n",
       "    .dataframe thead th {\n",
       "        text-align: right;\n",
       "    }\n",
       "</style>\n",
       "<table border=\"1\" class=\"dataframe\">\n",
       "  <thead>\n",
       "    <tr style=\"text-align: right;\">\n",
       "      <th></th>\n",
       "      <th>ID</th>\n",
       "      <th>Source</th>\n",
       "      <th>Severity</th>\n",
       "      <th>Start_Time</th>\n",
       "      <th>End_Time</th>\n",
       "      <th>Start_Lat</th>\n",
       "      <th>Start_Lng</th>\n",
       "      <th>End_Lat</th>\n",
       "      <th>End_Lng</th>\n",
       "      <th>Distance(mi)</th>\n",
       "      <th>...</th>\n",
       "      <th>Stop</th>\n",
       "      <th>Traffic_Calming</th>\n",
       "      <th>Traffic_Signal</th>\n",
       "      <th>Turning_Loop</th>\n",
       "      <th>Sunrise_Sunset</th>\n",
       "      <th>Civil_Twilight</th>\n",
       "      <th>Nautical_Twilight</th>\n",
       "      <th>Astronomical_Twilight</th>\n",
       "      <th>Resolution_Time</th>\n",
       "      <th>Year_Of_Accident</th>\n",
       "    </tr>\n",
       "  </thead>\n",
       "  <tbody>\n",
       "    <tr>\n",
       "      <th>0</th>\n",
       "      <td>A-1</td>\n",
       "      <td>Source2</td>\n",
       "      <td>3</td>\n",
       "      <td>2016-02-08 05:46:00</td>\n",
       "      <td>2016-02-08 11:00:00</td>\n",
       "      <td>39.865147</td>\n",
       "      <td>-84.058723</td>\n",
       "      <td>NaN</td>\n",
       "      <td>NaN</td>\n",
       "      <td>0.010</td>\n",
       "      <td>...</td>\n",
       "      <td>False</td>\n",
       "      <td>False</td>\n",
       "      <td>False</td>\n",
       "      <td>False</td>\n",
       "      <td>Night</td>\n",
       "      <td>Night</td>\n",
       "      <td>Night</td>\n",
       "      <td>Night</td>\n",
       "      <td>5.233333</td>\n",
       "      <td>2016</td>\n",
       "    </tr>\n",
       "    <tr>\n",
       "      <th>1</th>\n",
       "      <td>A-2</td>\n",
       "      <td>Source2</td>\n",
       "      <td>2</td>\n",
       "      <td>2016-02-08 06:07:59</td>\n",
       "      <td>2016-02-08 06:37:59</td>\n",
       "      <td>39.928059</td>\n",
       "      <td>-82.831184</td>\n",
       "      <td>NaN</td>\n",
       "      <td>NaN</td>\n",
       "      <td>0.010</td>\n",
       "      <td>...</td>\n",
       "      <td>False</td>\n",
       "      <td>False</td>\n",
       "      <td>False</td>\n",
       "      <td>False</td>\n",
       "      <td>Night</td>\n",
       "      <td>Night</td>\n",
       "      <td>Night</td>\n",
       "      <td>Day</td>\n",
       "      <td>0.500000</td>\n",
       "      <td>2016</td>\n",
       "    </tr>\n",
       "    <tr>\n",
       "      <th>2</th>\n",
       "      <td>A-3</td>\n",
       "      <td>Source2</td>\n",
       "      <td>2</td>\n",
       "      <td>2016-02-08 06:49:27</td>\n",
       "      <td>2016-02-08 07:19:27</td>\n",
       "      <td>39.063148</td>\n",
       "      <td>-84.032608</td>\n",
       "      <td>NaN</td>\n",
       "      <td>NaN</td>\n",
       "      <td>0.010</td>\n",
       "      <td>...</td>\n",
       "      <td>False</td>\n",
       "      <td>False</td>\n",
       "      <td>True</td>\n",
       "      <td>False</td>\n",
       "      <td>Night</td>\n",
       "      <td>Night</td>\n",
       "      <td>Day</td>\n",
       "      <td>Day</td>\n",
       "      <td>0.500000</td>\n",
       "      <td>2016</td>\n",
       "    </tr>\n",
       "    <tr>\n",
       "      <th>3</th>\n",
       "      <td>A-4</td>\n",
       "      <td>Source2</td>\n",
       "      <td>3</td>\n",
       "      <td>2016-02-08 07:23:34</td>\n",
       "      <td>2016-02-08 07:53:34</td>\n",
       "      <td>39.747753</td>\n",
       "      <td>-84.205582</td>\n",
       "      <td>NaN</td>\n",
       "      <td>NaN</td>\n",
       "      <td>0.010</td>\n",
       "      <td>...</td>\n",
       "      <td>False</td>\n",
       "      <td>False</td>\n",
       "      <td>False</td>\n",
       "      <td>False</td>\n",
       "      <td>Night</td>\n",
       "      <td>Day</td>\n",
       "      <td>Day</td>\n",
       "      <td>Day</td>\n",
       "      <td>0.500000</td>\n",
       "      <td>2016</td>\n",
       "    </tr>\n",
       "    <tr>\n",
       "      <th>4</th>\n",
       "      <td>A-5</td>\n",
       "      <td>Source2</td>\n",
       "      <td>2</td>\n",
       "      <td>2016-02-08 07:39:07</td>\n",
       "      <td>2016-02-08 08:09:07</td>\n",
       "      <td>39.627781</td>\n",
       "      <td>-84.188354</td>\n",
       "      <td>NaN</td>\n",
       "      <td>NaN</td>\n",
       "      <td>0.010</td>\n",
       "      <td>...</td>\n",
       "      <td>False</td>\n",
       "      <td>False</td>\n",
       "      <td>True</td>\n",
       "      <td>False</td>\n",
       "      <td>Day</td>\n",
       "      <td>Day</td>\n",
       "      <td>Day</td>\n",
       "      <td>Day</td>\n",
       "      <td>0.500000</td>\n",
       "      <td>2016</td>\n",
       "    </tr>\n",
       "    <tr>\n",
       "      <th>...</th>\n",
       "      <td>...</td>\n",
       "      <td>...</td>\n",
       "      <td>...</td>\n",
       "      <td>...</td>\n",
       "      <td>...</td>\n",
       "      <td>...</td>\n",
       "      <td>...</td>\n",
       "      <td>...</td>\n",
       "      <td>...</td>\n",
       "      <td>...</td>\n",
       "      <td>...</td>\n",
       "      <td>...</td>\n",
       "      <td>...</td>\n",
       "      <td>...</td>\n",
       "      <td>...</td>\n",
       "      <td>...</td>\n",
       "      <td>...</td>\n",
       "      <td>...</td>\n",
       "      <td>...</td>\n",
       "      <td>...</td>\n",
       "      <td>...</td>\n",
       "    </tr>\n",
       "    <tr>\n",
       "      <th>7728389</th>\n",
       "      <td>A-7777757</td>\n",
       "      <td>Source1</td>\n",
       "      <td>2</td>\n",
       "      <td>2019-08-23 18:03:25</td>\n",
       "      <td>2019-08-23 18:32:01</td>\n",
       "      <td>34.002480</td>\n",
       "      <td>-117.379360</td>\n",
       "      <td>33.99888</td>\n",
       "      <td>-117.37094</td>\n",
       "      <td>0.543</td>\n",
       "      <td>...</td>\n",
       "      <td>False</td>\n",
       "      <td>False</td>\n",
       "      <td>False</td>\n",
       "      <td>False</td>\n",
       "      <td>Day</td>\n",
       "      <td>Day</td>\n",
       "      <td>Day</td>\n",
       "      <td>Day</td>\n",
       "      <td>0.476667</td>\n",
       "      <td>2019</td>\n",
       "    </tr>\n",
       "    <tr>\n",
       "      <th>7728390</th>\n",
       "      <td>A-7777758</td>\n",
       "      <td>Source1</td>\n",
       "      <td>2</td>\n",
       "      <td>2019-08-23 19:11:30</td>\n",
       "      <td>2019-08-23 19:38:23</td>\n",
       "      <td>32.766960</td>\n",
       "      <td>-117.148060</td>\n",
       "      <td>32.76555</td>\n",
       "      <td>-117.15363</td>\n",
       "      <td>0.338</td>\n",
       "      <td>...</td>\n",
       "      <td>False</td>\n",
       "      <td>False</td>\n",
       "      <td>False</td>\n",
       "      <td>False</td>\n",
       "      <td>Day</td>\n",
       "      <td>Day</td>\n",
       "      <td>Day</td>\n",
       "      <td>Day</td>\n",
       "      <td>0.448056</td>\n",
       "      <td>2019</td>\n",
       "    </tr>\n",
       "    <tr>\n",
       "      <th>7728391</th>\n",
       "      <td>A-7777759</td>\n",
       "      <td>Source1</td>\n",
       "      <td>2</td>\n",
       "      <td>2019-08-23 19:00:21</td>\n",
       "      <td>2019-08-23 19:28:49</td>\n",
       "      <td>33.775450</td>\n",
       "      <td>-117.847790</td>\n",
       "      <td>33.77740</td>\n",
       "      <td>-117.85727</td>\n",
       "      <td>0.561</td>\n",
       "      <td>...</td>\n",
       "      <td>False</td>\n",
       "      <td>False</td>\n",
       "      <td>False</td>\n",
       "      <td>False</td>\n",
       "      <td>Day</td>\n",
       "      <td>Day</td>\n",
       "      <td>Day</td>\n",
       "      <td>Day</td>\n",
       "      <td>0.474444</td>\n",
       "      <td>2019</td>\n",
       "    </tr>\n",
       "    <tr>\n",
       "      <th>7728392</th>\n",
       "      <td>A-7777760</td>\n",
       "      <td>Source1</td>\n",
       "      <td>2</td>\n",
       "      <td>2019-08-23 19:00:21</td>\n",
       "      <td>2019-08-23 19:29:42</td>\n",
       "      <td>33.992460</td>\n",
       "      <td>-118.403020</td>\n",
       "      <td>33.98311</td>\n",
       "      <td>-118.39565</td>\n",
       "      <td>0.772</td>\n",
       "      <td>...</td>\n",
       "      <td>False</td>\n",
       "      <td>False</td>\n",
       "      <td>False</td>\n",
       "      <td>False</td>\n",
       "      <td>Day</td>\n",
       "      <td>Day</td>\n",
       "      <td>Day</td>\n",
       "      <td>Day</td>\n",
       "      <td>0.489167</td>\n",
       "      <td>2019</td>\n",
       "    </tr>\n",
       "    <tr>\n",
       "      <th>7728393</th>\n",
       "      <td>A-7777761</td>\n",
       "      <td>Source1</td>\n",
       "      <td>2</td>\n",
       "      <td>2019-08-23 18:52:06</td>\n",
       "      <td>2019-08-23 19:21:31</td>\n",
       "      <td>34.133930</td>\n",
       "      <td>-117.230920</td>\n",
       "      <td>34.13736</td>\n",
       "      <td>-117.23934</td>\n",
       "      <td>0.537</td>\n",
       "      <td>...</td>\n",
       "      <td>False</td>\n",
       "      <td>False</td>\n",
       "      <td>False</td>\n",
       "      <td>False</td>\n",
       "      <td>Day</td>\n",
       "      <td>Day</td>\n",
       "      <td>Day</td>\n",
       "      <td>Day</td>\n",
       "      <td>0.490278</td>\n",
       "      <td>2019</td>\n",
       "    </tr>\n",
       "  </tbody>\n",
       "</table>\n",
       "<p>7728394 rows × 48 columns</p>\n",
       "</div>"
      ],
      "text/plain": [
       "                ID   Source  Severity          Start_Time            End_Time  \\\n",
       "0              A-1  Source2         3 2016-02-08 05:46:00 2016-02-08 11:00:00   \n",
       "1              A-2  Source2         2 2016-02-08 06:07:59 2016-02-08 06:37:59   \n",
       "2              A-3  Source2         2 2016-02-08 06:49:27 2016-02-08 07:19:27   \n",
       "3              A-4  Source2         3 2016-02-08 07:23:34 2016-02-08 07:53:34   \n",
       "4              A-5  Source2         2 2016-02-08 07:39:07 2016-02-08 08:09:07   \n",
       "...            ...      ...       ...                 ...                 ...   \n",
       "7728389  A-7777757  Source1         2 2019-08-23 18:03:25 2019-08-23 18:32:01   \n",
       "7728390  A-7777758  Source1         2 2019-08-23 19:11:30 2019-08-23 19:38:23   \n",
       "7728391  A-7777759  Source1         2 2019-08-23 19:00:21 2019-08-23 19:28:49   \n",
       "7728392  A-7777760  Source1         2 2019-08-23 19:00:21 2019-08-23 19:29:42   \n",
       "7728393  A-7777761  Source1         2 2019-08-23 18:52:06 2019-08-23 19:21:31   \n",
       "\n",
       "         Start_Lat   Start_Lng   End_Lat    End_Lng  Distance(mi)  ...   Stop  \\\n",
       "0        39.865147  -84.058723       NaN        NaN         0.010  ...  False   \n",
       "1        39.928059  -82.831184       NaN        NaN         0.010  ...  False   \n",
       "2        39.063148  -84.032608       NaN        NaN         0.010  ...  False   \n",
       "3        39.747753  -84.205582       NaN        NaN         0.010  ...  False   \n",
       "4        39.627781  -84.188354       NaN        NaN         0.010  ...  False   \n",
       "...            ...         ...       ...        ...           ...  ...    ...   \n",
       "7728389  34.002480 -117.379360  33.99888 -117.37094         0.543  ...  False   \n",
       "7728390  32.766960 -117.148060  32.76555 -117.15363         0.338  ...  False   \n",
       "7728391  33.775450 -117.847790  33.77740 -117.85727         0.561  ...  False   \n",
       "7728392  33.992460 -118.403020  33.98311 -118.39565         0.772  ...  False   \n",
       "7728393  34.133930 -117.230920  34.13736 -117.23934         0.537  ...  False   \n",
       "\n",
       "        Traffic_Calming Traffic_Signal Turning_Loop Sunrise_Sunset  \\\n",
       "0                 False          False        False          Night   \n",
       "1                 False          False        False          Night   \n",
       "2                 False           True        False          Night   \n",
       "3                 False          False        False          Night   \n",
       "4                 False           True        False            Day   \n",
       "...                 ...            ...          ...            ...   \n",
       "7728389           False          False        False            Day   \n",
       "7728390           False          False        False            Day   \n",
       "7728391           False          False        False            Day   \n",
       "7728392           False          False        False            Day   \n",
       "7728393           False          False        False            Day   \n",
       "\n",
       "        Civil_Twilight Nautical_Twilight Astronomical_Twilight  \\\n",
       "0                Night             Night                 Night   \n",
       "1                Night             Night                   Day   \n",
       "2                Night               Day                   Day   \n",
       "3                  Day               Day                   Day   \n",
       "4                  Day               Day                   Day   \n",
       "...                ...               ...                   ...   \n",
       "7728389            Day               Day                   Day   \n",
       "7728390            Day               Day                   Day   \n",
       "7728391            Day               Day                   Day   \n",
       "7728392            Day               Day                   Day   \n",
       "7728393            Day               Day                   Day   \n",
       "\n",
       "        Resolution_Time Year_Of_Accident  \n",
       "0              5.233333             2016  \n",
       "1              0.500000             2016  \n",
       "2              0.500000             2016  \n",
       "3              0.500000             2016  \n",
       "4              0.500000             2016  \n",
       "...                 ...              ...  \n",
       "7728389        0.476667             2019  \n",
       "7728390        0.448056             2019  \n",
       "7728391        0.474444             2019  \n",
       "7728392        0.489167             2019  \n",
       "7728393        0.490278             2019  \n",
       "\n",
       "[7728394 rows x 48 columns]"
      ]
     },
     "execution_count": 26,
     "metadata": {},
     "output_type": "execute_result"
    }
   ],
   "source": [
    "df['Year_Of_Accident'] = pd.to_datetime(df['Start_Time']).dt.year\n",
    "df"
   ]
  },
  {
   "cell_type": "markdown",
   "id": "ca2e318b",
   "metadata": {
    "papermill": {
     "duration": 0.025483,
     "end_time": "2024-06-29T07:21:46.762687",
     "exception": false,
     "start_time": "2024-06-29T07:21:46.737204",
     "status": "completed"
    },
    "tags": []
   },
   "source": [
    "#### Visualize Year on Year trend"
   ]
  },
  {
   "cell_type": "code",
   "execution_count": 27,
   "id": "5326c1b8",
   "metadata": {
    "execution": {
     "iopub.execute_input": "2024-06-29T07:21:46.815844Z",
     "iopub.status.busy": "2024-06-29T07:21:46.815430Z",
     "iopub.status.idle": "2024-06-29T07:21:47.349124Z",
     "shell.execute_reply": "2024-06-29T07:21:47.347814Z"
    },
    "papermill": {
     "duration": 0.563228,
     "end_time": "2024-06-29T07:21:47.351754",
     "exception": false,
     "start_time": "2024-06-29T07:21:46.788526",
     "status": "completed"
    },
    "tags": []
   },
   "outputs": [
    {
     "data": {
      "text/plain": [
       "<Axes: xlabel='Year_Of_Accident', ylabel='Count'>"
      ]
     },
     "execution_count": 27,
     "metadata": {},
     "output_type": "execute_result"
    },
    {
     "data": {
      "image/png": "[encoded data removed]",
      "text/plain": [
       "<Figure size 640x480 with 1 Axes>"
      ]
     },
     "metadata": {},
     "output_type": "display_data"
    }
   ],
   "source": [
    "year_counts = df['Year_Of_Accident'].value_counts().sort_index().reset_index(name='Counts')\n",
    "year_counts\n",
    "year_counts.columns = ['Year_Of_Accident', 'Counts']\n",
    "year_counts.plot(kind='line', x='Year_Of_Accident', y='Counts', marker='o', ylabel='Count')"
   ]
  },
  {
   "cell_type": "markdown",
   "id": "f10a9b4a",
   "metadata": {
    "papermill": {
     "duration": 0.026647,
     "end_time": "2024-06-29T07:21:47.404949",
     "exception": false,
     "start_time": "2024-06-29T07:21:47.378302",
     "status": "completed"
    },
    "tags": []
   },
   "source": [
    "#### Visualize Year on Year trend (Seaborn)"
   ]
  },
  {
   "cell_type": "code",
   "execution_count": 28,
   "id": "ae636823",
   "metadata": {
    "execution": {
     "iopub.execute_input": "2024-06-29T07:21:47.460191Z",
     "iopub.status.busy": "2024-06-29T07:21:47.459719Z",
     "iopub.status.idle": "2024-06-29T07:21:47.979563Z",
     "shell.execute_reply": "2024-06-29T07:21:47.978423Z"
    },
    "papermill": {
     "duration": 0.55082,
     "end_time": "2024-06-29T07:21:47.982336",
     "exception": false,
     "start_time": "2024-06-29T07:21:47.431516",
     "status": "completed"
    },
    "tags": []
   },
   "outputs": [
    {
     "name": "stderr",
     "output_type": "stream",
     "text": [
      "/opt/conda/lib/python3.10/site-packages/seaborn/_oldcore.py:1119: FutureWarning: use_inf_as_na option is deprecated and will be removed in a future version. Convert inf values to NaN before operating instead.\n",
      "  with pd.option_context('mode.use_inf_as_na', True):\n",
      "/opt/conda/lib/python3.10/site-packages/seaborn/_oldcore.py:1119: FutureWarning: use_inf_as_na option is deprecated and will be removed in a future version. Convert inf values to NaN before operating instead.\n",
      "  with pd.option_context('mode.use_inf_as_na', True):\n"
     ]
    },
    {
     "data": {
      "text/plain": [
       "<Axes: xlabel='Year_Of_Accident', ylabel='Counts'>"
      ]
     },
     "execution_count": 28,
     "metadata": {},
     "output_type": "execute_result"
    },
    {
     "data": {
      "image/png": "[encoded data removed]",
      "text/plain": [
       "<Figure size 640x480 with 1 Axes>"
      ]
     },
     "metadata": {},
     "output_type": "display_data"
    }
   ],
   "source": [
    "sns.lineplot(x='Year_Of_Accident', y='Counts', marker='o', data=df['Year_Of_Accident'].value_counts(ascending = True).reset_index(name='Counts'))"
   ]
  }
 ],
 "metadata": {
  "kaggle": {
   "accelerator": "none",
   "dataSources": [
    {
     "datasetId": 199387,
     "sourceId": 5793796,
     "sourceType": "datasetVersion"
    }
   ],
   "dockerImageVersionId": 30732,
   "isGpuEnabled": false,
   "isInternetEnabled": true,
   "language": "python",
   "sourceType": "notebook"
  },
  "kernelspec": {
   "display_name": "Python 3",
   "language": "python",
   "name": "python3"
  },
  "language_info": {
   "codemirror_mode": {
    "name": "ipython",
    "version": 3
   },
   "file_extension": ".py",
   "mimetype": "text/x-python",
   "name": "python",
   "nbconvert_exporter": "python",
   "pygments_lexer": "ipython3",
   "version": "3.10.13"
  },
  "papermill": {
   "default_parameters": {},
   "duration": 246.278474,
   "end_time": "2024-06-29T07:21:50.942127",
   "environment_variables": {},
   "exception": null,
   "input_path": "__notebook__.ipynb",
   "output_path": "__notebook__.ipynb",
   "parameters": {},
   "start_time": "2024-06-29T07:17:44.663653",
   "version": "2.5.0"
  }
 },
 "nbformat": 4,
 "nbformat_minor": 5
}
